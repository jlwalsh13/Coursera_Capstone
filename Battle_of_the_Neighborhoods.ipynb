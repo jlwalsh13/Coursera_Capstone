{
 "cells": [
  {
   "cell_type": "markdown",
   "metadata": {},
   "source": [
    "# Battle of the Neighborhoods"
   ]
  },
  {
   "cell_type": "markdown",
   "metadata": {},
   "source": [
    "The focus of the project is to use Foursquare data and clustering to determine which US city; Chicago, New York or Los Angeles, is most similar to Toronto.  I will gather lists of neighborhoods and their respective geographic coordinates from various sources online, and use Foursquare to retrieve data on each neighborhood.  I will manipulate and clean the data so that it may be useful for ML, then use clustering and classification to compare Toronto to each US city individually."
   ]
  },
  {
   "cell_type": "code",
   "execution_count": 3,
   "metadata": {},
   "outputs": [],
   "source": [
    "# Install / import required packages.\n",
    "import pandas as pd\n",
    "import numpy as np\n",
    "import matplotlib.pyplot as plt\n",
    "import seaborn as sns\n",
    "from urllib.request import urlopen\n",
    "from bs4 import BeautifulSoup\n",
    "import re\n",
    "import requests\n",
    "from pandas.io.json import json_normalize\n",
    "from sklearn.cluster import KMeans\n",
    "import matplotlib.cm as cm\n",
    "import matplotlib.colors as colors\n",
    "import json\n",
    "from project_lib import Project\n",
    "from sklearn.model_selection import train_test_split\n",
    "from sklearn.linear_model import LogisticRegression\n",
    "from sklearn.metrics import accuracy_score\n",
    "from sklearn.model_selection import GridSearchCV\n",
    "\n",
    "# Watson Studio Project Credentials\n",
    "project = Project(project_id='', project_access_token='') # Confidential.\n",
    "pc = project.project_context"
   ]
  },
  {
   "cell_type": "markdown",
   "metadata": {},
   "source": [
    "Here, I store my credentials for Foursquare."
   ]
  },
  {
   "cell_type": "code",
   "execution_count": 2,
   "metadata": {},
   "outputs": [],
   "source": [
    "# Store Foursquare credentials and parameters.\n",
    "CLIENT_ID = '' # Confidential.\n",
    "CLIENT_SECRET = '' # Confidential.\n",
    "VERSION = '20180605'\n",
    "LIMIT = 100\n",
    "radius = 500"
   ]
  },
  {
   "cell_type": "markdown",
   "metadata": {},
   "source": [
    "### Collect Chicago Neighborhoods and Coordinates"
   ]
  },
  {
   "cell_type": "markdown",
   "metadata": {},
   "source": [
    "I found a good source for Chicago data at **cityofchicago.org**.  The returned JSON file contains neighborhoods and their respective coordinates."
   ]
  },
  {
   "cell_type": "code",
   "execution_count": 5,
   "metadata": {
    "scrolled": false
   },
   "outputs": [
    {
     "data": {
      "text/plain": [
       "{'pri_neigh': 'Grand Boulevard',\n",
       " 'sec_neigh': 'BRONZEVILLE',\n",
       " 'shape_area': '48492503.1554',\n",
       " 'shape_len': '28196.837157'}"
      ]
     },
     "execution_count": 5,
     "metadata": {},
     "output_type": "execute_result"
    }
   ],
   "source": [
    "# Retrieve Chicago neighborhood data in JSON format from \"cityofchicago.org.\"\n",
    "chicago_json_url = urlopen('https://data.cityofchicago.org/api/geospatial/bbvz-uum9?method=export&format=GeoJSON')\n",
    "chicago_json = json.loads(chicago_json_url.read())\n",
    "chicago_dict = {chicago_json['features'][i]['properties']['pri_neigh']:\n",
    "                chicago_json['features'][i]['geometry']['coordinates'][0][0][0] \n",
    "                for i in range(len(chicago_json['features']))}\n",
    "\n",
    "chicago_json['features'][0]['properties']"
   ]
  },
  {
   "cell_type": "code",
   "execution_count": 9,
   "metadata": {},
   "outputs": [
    {
     "data": {
      "text/html": [
       "<div>\n",
       "<style scoped>\n",
       "    .dataframe tbody tr th:only-of-type {\n",
       "        vertical-align: middle;\n",
       "    }\n",
       "\n",
       "    .dataframe tbody tr th {\n",
       "        vertical-align: top;\n",
       "    }\n",
       "\n",
       "    .dataframe thead th {\n",
       "        text-align: right;\n",
       "    }\n",
       "</style>\n",
       "<table border=\"1\" class=\"dataframe\">\n",
       "  <thead>\n",
       "    <tr style=\"text-align: right;\">\n",
       "      <th></th>\n",
       "      <th>Neighborhood</th>\n",
       "      <th>Latitude</th>\n",
       "      <th>Longitude</th>\n",
       "    </tr>\n",
       "  </thead>\n",
       "  <tbody>\n",
       "    <tr>\n",
       "      <th>0</th>\n",
       "      <td>Grand Boulevard</td>\n",
       "      <td>41.816814</td>\n",
       "      <td>-87.606708</td>\n",
       "    </tr>\n",
       "    <tr>\n",
       "      <th>1</th>\n",
       "      <td>Printers Row</td>\n",
       "      <td>41.874371</td>\n",
       "      <td>-87.627607</td>\n",
       "    </tr>\n",
       "    <tr>\n",
       "      <th>2</th>\n",
       "      <td>United Center</td>\n",
       "      <td>41.888852</td>\n",
       "      <td>-87.667069</td>\n",
       "    </tr>\n",
       "    <tr>\n",
       "      <th>3</th>\n",
       "      <td>Sheffield &amp; DePaul</td>\n",
       "      <td>41.921661</td>\n",
       "      <td>-87.658335</td>\n",
       "    </tr>\n",
       "    <tr>\n",
       "      <th>4</th>\n",
       "      <td>Humboldt Park</td>\n",
       "      <td>41.887823</td>\n",
       "      <td>-87.740596</td>\n",
       "    </tr>\n",
       "  </tbody>\n",
       "</table>\n",
       "</div>"
      ],
      "text/plain": [
       "         Neighborhood   Latitude  Longitude\n",
       "0     Grand Boulevard  41.816814 -87.606708\n",
       "1        Printers Row  41.874371 -87.627607\n",
       "2       United Center  41.888852 -87.667069\n",
       "3  Sheffield & DePaul  41.921661 -87.658335\n",
       "4       Humboldt Park  41.887823 -87.740596"
      ]
     },
     "execution_count": 9,
     "metadata": {},
     "output_type": "execute_result"
    }
   ],
   "source": [
    "# Extract neighborhood name and coordinates from JSON file and create a DataFrame.\n",
    "chicago_coords = pd.DataFrame(chicago_dict).transpose().reset_index()\n",
    "chicago_coords.columns = ['Neighborhood', 'Longitude', 'Latitude']\n",
    "chicago_coords = chicago_coords[['Neighborhood', 'Latitude', 'Longitude']]\n",
    "chicago_coords.head()"
   ]
  },
  {
   "cell_type": "code",
   "execution_count": 10,
   "metadata": {},
   "outputs": [
    {
     "data": {
      "text/plain": [
       "(98, 3)"
      ]
     },
     "execution_count": 10,
     "metadata": {},
     "output_type": "execute_result"
    }
   ],
   "source": [
    "# Get dimensions of Chicago DataFrame.\n",
    "chicago_coords.shape"
   ]
  },
  {
   "cell_type": "markdown",
   "metadata": {},
   "source": [
    "### Collect Los Angeles Neighborhoods and Coordinates"
   ]
  },
  {
   "cell_type": "markdown",
   "metadata": {},
   "source": [
    "I found a good source for Los Angeles data at **usc.data.socrata.com**.  The returned JSON file contains neighborhoods and their respective coordinates."
   ]
  },
  {
   "cell_type": "code",
   "execution_count": 11,
   "metadata": {},
   "outputs": [
    {
     "data": {
      "text/plain": [
       "{'external_i': 'acton',\n",
       " 'name': 'Acton',\n",
       " 'location': 'POINT(34.497355239240846 -118.16981019229348)',\n",
       " 'latitude': '-118.16981019229348',\n",
       " 'slug_1': None,\n",
       " 'sqmi': '39.3391089485',\n",
       " 'display_na': 'Acton L.A. County Neighborhood (Current)',\n",
       " 'set': 'L.A. County Neighborhoods (Current)',\n",
       " 'slug': 'acton',\n",
       " 'longitude': '34.497355239240846',\n",
       " 'name_1': None,\n",
       " 'kind': 'L.A. County Neighborhood (Current)',\n",
       " 'type': 'unincorporated-area'}"
      ]
     },
     "execution_count": 11,
     "metadata": {},
     "output_type": "execute_result"
    }
   ],
   "source": [
    "# Retrieve Los Angeles neighborhood data in JSON format from \"usc.data.socrata.com.\"\n",
    "LA_json_url = urlopen('https://usc.data.socrata.com/api/geospatial/r8qd-yxsr?method=export&format=GeoJSON')\n",
    "LA_data = json.loads(LA_json_url.read())\n",
    "\n",
    "LA_data['features'][0]['properties']"
   ]
  },
  {
   "cell_type": "markdown",
   "metadata": {},
   "source": [
    "The JSON data for LA is a little different in that it demarks areas as 'unincorporated-area', 'segment-of-a-city' and 'standalone-city'."
   ]
  },
  {
   "cell_type": "code",
   "execution_count": 12,
   "metadata": {},
   "outputs": [
    {
     "data": {
      "text/plain": [
       "array(['unincorporated-area', 'segment-of-a-city', 'standalone-city'],\n",
       "      dtype=object)"
      ]
     },
     "execution_count": 12,
     "metadata": {},
     "output_type": "execute_result"
    }
   ],
   "source": [
    "# Retrieve all location types from the Los Angeles neighborhood JSON.\n",
    "mylist = [LA_data['features'][i]['properties']['type'] for i in range(len(LA_data['features']))]\n",
    "pd.Series(mylist).unique()"
   ]
  },
  {
   "cell_type": "code",
   "execution_count": 13,
   "metadata": {},
   "outputs": [
    {
     "data": {
      "text/html": [
       "<div>\n",
       "<style scoped>\n",
       "    .dataframe tbody tr th:only-of-type {\n",
       "        vertical-align: middle;\n",
       "    }\n",
       "\n",
       "    .dataframe tbody tr th {\n",
       "        vertical-align: top;\n",
       "    }\n",
       "\n",
       "    .dataframe thead th {\n",
       "        text-align: right;\n",
       "    }\n",
       "</style>\n",
       "<table border=\"1\" class=\"dataframe\">\n",
       "  <thead>\n",
       "    <tr style=\"text-align: right;\">\n",
       "      <th></th>\n",
       "      <th>Neighborhood</th>\n",
       "      <th>Latitude</th>\n",
       "      <th>Longitude</th>\n",
       "    </tr>\n",
       "  </thead>\n",
       "  <tbody>\n",
       "    <tr>\n",
       "      <th>0</th>\n",
       "      <td>Acton</td>\n",
       "      <td>-118.16981019229348</td>\n",
       "      <td>34.497355239240846</td>\n",
       "    </tr>\n",
       "    <tr>\n",
       "      <th>1</th>\n",
       "      <td>Adams-Normandie</td>\n",
       "      <td>-118.30020800000011</td>\n",
       "      <td>34.031461499124156</td>\n",
       "    </tr>\n",
       "    <tr>\n",
       "      <th>2</th>\n",
       "      <td>Agoura Hills</td>\n",
       "      <td>-118.75988450000015</td>\n",
       "      <td>34.146736499122795</td>\n",
       "    </tr>\n",
       "    <tr>\n",
       "      <th>3</th>\n",
       "      <td>Agua Dulce</td>\n",
       "      <td>-118.3171036690717</td>\n",
       "      <td>34.504926999796837</td>\n",
       "    </tr>\n",
       "    <tr>\n",
       "      <th>4</th>\n",
       "      <td>Alhambra</td>\n",
       "      <td>-118.13651200000021</td>\n",
       "      <td>34.085538999123571</td>\n",
       "    </tr>\n",
       "  </tbody>\n",
       "</table>\n",
       "</div>"
      ],
      "text/plain": [
       "      Neighborhood             Latitude           Longitude\n",
       "0            Acton  -118.16981019229348  34.497355239240846\n",
       "1  Adams-Normandie  -118.30020800000011  34.031461499124156\n",
       "2     Agoura Hills  -118.75988450000015  34.146736499122795\n",
       "3       Agua Dulce   -118.3171036690717  34.504926999796837\n",
       "4         Alhambra  -118.13651200000021  34.085538999123571"
      ]
     },
     "execution_count": 13,
     "metadata": {},
     "output_type": "execute_result"
    }
   ],
   "source": [
    "# Extract neighborhood name and coordinates from JSON file and create a DataFrame.\n",
    "LA_neighborhoods = [LA_data['features'][i]['properties']['name'] \n",
    "                    for i in range(len(LA_data['features']))]\n",
    "LA_latitude = [LA_data['features'][i]['properties']['latitude'] \n",
    "               for i in range(len(LA_data['features']))]\n",
    "LA_longitude = [LA_data['features'][i]['properties']['longitude'] \n",
    "                for i in range(len(LA_data['features']))]\n",
    "\n",
    "LA_coords = pd.DataFrame({'Neighborhood':LA_neighborhoods, \n",
    "                          'Latitude':LA_latitude,\n",
    "                          'Longitude':LA_longitude})\n",
    "LA_coords.head()"
   ]
  },
  {
   "cell_type": "markdown",
   "metadata": {},
   "source": [
    "Seems the longitude and latitude coordinates in the LA JSON file are mis labeled.  That needs to be corrected."
   ]
  },
  {
   "cell_type": "code",
   "execution_count": 14,
   "metadata": {},
   "outputs": [
    {
     "data": {
      "text/html": [
       "<div>\n",
       "<style scoped>\n",
       "    .dataframe tbody tr th:only-of-type {\n",
       "        vertical-align: middle;\n",
       "    }\n",
       "\n",
       "    .dataframe tbody tr th {\n",
       "        vertical-align: top;\n",
       "    }\n",
       "\n",
       "    .dataframe thead th {\n",
       "        text-align: right;\n",
       "    }\n",
       "</style>\n",
       "<table border=\"1\" class=\"dataframe\">\n",
       "  <thead>\n",
       "    <tr style=\"text-align: right;\">\n",
       "      <th></th>\n",
       "      <th>Neighborhood</th>\n",
       "      <th>Latitude</th>\n",
       "      <th>Longitude</th>\n",
       "    </tr>\n",
       "  </thead>\n",
       "  <tbody>\n",
       "    <tr>\n",
       "      <th>0</th>\n",
       "      <td>Acton</td>\n",
       "      <td>34.497355239240846</td>\n",
       "      <td>-118.16981019229348</td>\n",
       "    </tr>\n",
       "    <tr>\n",
       "      <th>1</th>\n",
       "      <td>Adams-Normandie</td>\n",
       "      <td>34.031461499124156</td>\n",
       "      <td>-118.30020800000011</td>\n",
       "    </tr>\n",
       "    <tr>\n",
       "      <th>2</th>\n",
       "      <td>Agoura Hills</td>\n",
       "      <td>34.146736499122795</td>\n",
       "      <td>-118.75988450000015</td>\n",
       "    </tr>\n",
       "    <tr>\n",
       "      <th>3</th>\n",
       "      <td>Agua Dulce</td>\n",
       "      <td>34.504926999796837</td>\n",
       "      <td>-118.3171036690717</td>\n",
       "    </tr>\n",
       "    <tr>\n",
       "      <th>4</th>\n",
       "      <td>Alhambra</td>\n",
       "      <td>34.085538999123571</td>\n",
       "      <td>-118.13651200000021</td>\n",
       "    </tr>\n",
       "  </tbody>\n",
       "</table>\n",
       "</div>"
      ],
      "text/plain": [
       "      Neighborhood            Latitude            Longitude\n",
       "0            Acton  34.497355239240846  -118.16981019229348\n",
       "1  Adams-Normandie  34.031461499124156  -118.30020800000011\n",
       "2     Agoura Hills  34.146736499122795  -118.75988450000015\n",
       "3       Agua Dulce  34.504926999796837   -118.3171036690717\n",
       "4         Alhambra  34.085538999123571  -118.13651200000021"
      ]
     },
     "execution_count": 14,
     "metadata": {},
     "output_type": "execute_result"
    }
   ],
   "source": [
    "# Re-label latitude and longitude.\n",
    "LA_coords = pd.DataFrame({'Neighborhood':LA_neighborhoods, \n",
    "                          'Latitude':LA_longitude,\n",
    "                          'Longitude':LA_latitude})\n",
    "LA_coords.head()"
   ]
  },
  {
   "cell_type": "code",
   "execution_count": 15,
   "metadata": {},
   "outputs": [
    {
     "data": {
      "text/plain": [
       "(272, 3)"
      ]
     },
     "execution_count": 15,
     "metadata": {},
     "output_type": "execute_result"
    }
   ],
   "source": [
    "# Get dimensions of Los Angeles DataFrame.\n",
    "LA_coords.shape"
   ]
  },
  {
   "cell_type": "markdown",
   "metadata": {},
   "source": [
    "### Collect New York Neighborhoods and Coordinates"
   ]
  },
  {
   "cell_type": "markdown",
   "metadata": {},
   "source": [
    "New York data was used in a previous exercise in this course.  I'll use that."
   ]
  },
  {
   "cell_type": "code",
   "execution_count": 16,
   "metadata": {},
   "outputs": [
    {
     "data": {
      "text/plain": [
       "{'type': 'Feature',\n",
       " 'id': 'nyu_2451_34572.1',\n",
       " 'geometry': {'type': 'Point',\n",
       "  'coordinates': [-73.84720052054902, 40.89470517661]},\n",
       " 'geometry_name': 'geom',\n",
       " 'properties': {'name': 'Wakefield',\n",
       "  'stacked': 1,\n",
       "  'annoline1': 'Wakefield',\n",
       "  'annoline2': None,\n",
       "  'annoline3': None,\n",
       "  'annoangle': 0.0,\n",
       "  'borough': 'Bronx',\n",
       "  'bbox': [-73.84720052054902,\n",
       "   40.89470517661,\n",
       "   -73.84720052054902,\n",
       "   40.89470517661]}}"
      ]
     },
     "execution_count": 16,
     "metadata": {},
     "output_type": "execute_result"
    }
   ],
   "source": [
    "# Retrieve New York neighborhood data in JSON format from \"cocl.us/new_york_dataset.\"\n",
    "!wget -q -O 'newyork_data.json' https://cocl.us/new_york_dataset\n",
    "    \n",
    "with open('newyork_data.json') as json_data:\n",
    "    newyork_data = json.load(json_data)\n",
    "    \n",
    "neighborhoods_data = newyork_data['features']\n",
    "neighborhoods_data[0]"
   ]
  },
  {
   "cell_type": "code",
   "execution_count": 17,
   "metadata": {},
   "outputs": [
    {
     "data": {
      "text/html": [
       "<div>\n",
       "<style scoped>\n",
       "    .dataframe tbody tr th:only-of-type {\n",
       "        vertical-align: middle;\n",
       "    }\n",
       "\n",
       "    .dataframe tbody tr th {\n",
       "        vertical-align: top;\n",
       "    }\n",
       "\n",
       "    .dataframe thead th {\n",
       "        text-align: right;\n",
       "    }\n",
       "</style>\n",
       "<table border=\"1\" class=\"dataframe\">\n",
       "  <thead>\n",
       "    <tr style=\"text-align: right;\">\n",
       "      <th></th>\n",
       "      <th>Neighborhood</th>\n",
       "      <th>Latitude</th>\n",
       "      <th>Longitude</th>\n",
       "    </tr>\n",
       "  </thead>\n",
       "  <tbody>\n",
       "    <tr>\n",
       "      <th>0</th>\n",
       "      <td>Wakefield</td>\n",
       "      <td>40.894705</td>\n",
       "      <td>-73.847201</td>\n",
       "    </tr>\n",
       "    <tr>\n",
       "      <th>1</th>\n",
       "      <td>Co-op City</td>\n",
       "      <td>40.874294</td>\n",
       "      <td>-73.829939</td>\n",
       "    </tr>\n",
       "    <tr>\n",
       "      <th>2</th>\n",
       "      <td>Eastchester</td>\n",
       "      <td>40.887556</td>\n",
       "      <td>-73.827806</td>\n",
       "    </tr>\n",
       "    <tr>\n",
       "      <th>3</th>\n",
       "      <td>Fieldston</td>\n",
       "      <td>40.895437</td>\n",
       "      <td>-73.905643</td>\n",
       "    </tr>\n",
       "    <tr>\n",
       "      <th>4</th>\n",
       "      <td>Riverdale</td>\n",
       "      <td>40.890834</td>\n",
       "      <td>-73.912585</td>\n",
       "    </tr>\n",
       "  </tbody>\n",
       "</table>\n",
       "</div>"
      ],
      "text/plain": [
       "  Neighborhood   Latitude  Longitude\n",
       "0    Wakefield  40.894705 -73.847201\n",
       "1   Co-op City  40.874294 -73.829939\n",
       "2  Eastchester  40.887556 -73.827806\n",
       "3    Fieldston  40.895437 -73.905643\n",
       "4    Riverdale  40.890834 -73.912585"
      ]
     },
     "execution_count": 17,
     "metadata": {},
     "output_type": "execute_result"
    }
   ],
   "source": [
    "# Extract neighborhood name and coordinates from JSON file and create a DataFrame.\n",
    "NY_coords = pd.DataFrame(columns=['Neighborhood', 'Latitude', 'Longitude'])\n",
    "\n",
    "for data in neighborhoods_data:\n",
    "    neighborhood_name = data['properties']['name']\n",
    "    neighborhood_latlon = data['geometry']['coordinates']\n",
    "    neighborhood_lat = neighborhood_latlon[1]\n",
    "    neighborhood_lon = neighborhood_latlon[0]\n",
    "    NY_coords = NY_coords.append({'Neighborhood': neighborhood_name,\n",
    "                                  'Latitude': neighborhood_lat,\n",
    "                                  'Longitude': neighborhood_lon},ignore_index=True)\n",
    "    \n",
    "NY_coords.head()"
   ]
  },
  {
   "cell_type": "code",
   "execution_count": 19,
   "metadata": {},
   "outputs": [
    {
     "data": {
      "text/plain": [
       "(306, 3)"
      ]
     },
     "execution_count": 19,
     "metadata": {},
     "output_type": "execute_result"
    }
   ],
   "source": [
    "# Get dimensions of New York DataFrame.\n",
    "NY_coords.shape"
   ]
  },
  {
   "cell_type": "markdown",
   "metadata": {},
   "source": [
    "### Collect Toronto Neighborhoods and Coordinates"
   ]
  },
  {
   "cell_type": "markdown",
   "metadata": {},
   "source": [
    "Like New York, Toronto data was also used in a previous exercise in this course. I'll use that."
   ]
  },
  {
   "cell_type": "code",
   "execution_count": 20,
   "metadata": {},
   "outputs": [
    {
     "data": {
      "text/html": [
       "<div>\n",
       "<style scoped>\n",
       "    .dataframe tbody tr th:only-of-type {\n",
       "        vertical-align: middle;\n",
       "    }\n",
       "\n",
       "    .dataframe tbody tr th {\n",
       "        vertical-align: top;\n",
       "    }\n",
       "\n",
       "    .dataframe thead th {\n",
       "        text-align: right;\n",
       "    }\n",
       "</style>\n",
       "<table border=\"1\" class=\"dataframe\">\n",
       "  <thead>\n",
       "    <tr style=\"text-align: right;\">\n",
       "      <th></th>\n",
       "      <th>PostalCode</th>\n",
       "      <th>Borough</th>\n",
       "      <th>Neighborhood</th>\n",
       "    </tr>\n",
       "  </thead>\n",
       "  <tbody>\n",
       "    <tr>\n",
       "      <th>0</th>\n",
       "      <td>M1B</td>\n",
       "      <td>Scarborough</td>\n",
       "      <td>Rouge, Malvern</td>\n",
       "    </tr>\n",
       "    <tr>\n",
       "      <th>1</th>\n",
       "      <td>M1C</td>\n",
       "      <td>Scarborough</td>\n",
       "      <td>Highland Creek, Rouge Hill, Port Union</td>\n",
       "    </tr>\n",
       "    <tr>\n",
       "      <th>2</th>\n",
       "      <td>M1E</td>\n",
       "      <td>Scarborough</td>\n",
       "      <td>Guildwood, Morningside, West Hill</td>\n",
       "    </tr>\n",
       "    <tr>\n",
       "      <th>3</th>\n",
       "      <td>M1G</td>\n",
       "      <td>Scarborough</td>\n",
       "      <td>Woburn</td>\n",
       "    </tr>\n",
       "    <tr>\n",
       "      <th>4</th>\n",
       "      <td>M1H</td>\n",
       "      <td>Scarborough</td>\n",
       "      <td>Cedarbrae</td>\n",
       "    </tr>\n",
       "  </tbody>\n",
       "</table>\n",
       "</div>"
      ],
      "text/plain": [
       "  PostalCode      Borough                            Neighborhood\n",
       "0        M1B  Scarborough                          Rouge, Malvern\n",
       "1        M1C  Scarborough  Highland Creek, Rouge Hill, Port Union\n",
       "2        M1E  Scarborough       Guildwood, Morningside, West Hill\n",
       "3        M1G  Scarborough                                  Woburn\n",
       "4        M1H  Scarborough                               Cedarbrae"
      ]
     },
     "execution_count": 20,
     "metadata": {},
     "output_type": "execute_result"
    }
   ],
   "source": [
    "# Open target URL.\n",
    "html = urlopen('https://en.wikipedia.org/wiki/List_of_postal_codes_of_Canada:_M')\n",
    "\n",
    "# Create BeautifulSoup web-parser.\n",
    "soup = BeautifulSoup(html, 'html.parser')\n",
    "\n",
    "# Find attribute table, scrap data and clean text.\n",
    "table = soup.find('table', {'class': 'wikitable sortable'})\n",
    "rows = table.find_all('tr')\n",
    "list_rows = []\n",
    "\n",
    "for row in rows:\n",
    "    cells = row.find_all('td')\n",
    "    str_cells = str(cells)\n",
    "    clean = re.compile('<.*?>')\n",
    "    clean2 = (re.sub(clean, '',str_cells))\n",
    "    if len(clean2) > 2:\n",
    "        list_rows.append(clean2.strip('[]')[:-1])\n",
    "    else:\n",
    "        continue\n",
    "        \n",
    "# Create DataFrame.\n",
    "df = pd.DataFrame(list_rows)\n",
    "postalcode_df = df[0].str.split(',', expand=True)\n",
    "postalcode_df.columns = ['PostalCode', 'Borough', 'Neighborhood']\n",
    "\n",
    "# Remove rows were \"Borough\" = \"Not Assinged\" then group neighborhoods by Borough.\n",
    "for column in postalcode_df.columns.values:\n",
    "    postalcode_df[column] = postalcode_df[column].str.strip()\n",
    "\n",
    "postalcode_df = postalcode_df[postalcode_df.Borough != 'Not assigned'].reset_index(drop=True)\n",
    "postalcode_df.loc[(postalcode_df.Neighborhood == 'Not assigned'), 'Neighborhood'] = postalcode_df[postalcode_df.Neighborhood == 'Not assigned'].Borough.item()\n",
    "postalcode_df = postalcode_df.groupby(['PostalCode','Borough']).Neighborhood.unique().apply(lambda x: ', '.join(x)).reset_index()\n",
    "postalcode_df.head()"
   ]
  },
  {
   "cell_type": "code",
   "execution_count": 21,
   "metadata": {},
   "outputs": [
    {
     "data": {
      "text/html": [
       "<div>\n",
       "<style scoped>\n",
       "    .dataframe tbody tr th:only-of-type {\n",
       "        vertical-align: middle;\n",
       "    }\n",
       "\n",
       "    .dataframe tbody tr th {\n",
       "        vertical-align: top;\n",
       "    }\n",
       "\n",
       "    .dataframe thead th {\n",
       "        text-align: right;\n",
       "    }\n",
       "</style>\n",
       "<table border=\"1\" class=\"dataframe\">\n",
       "  <thead>\n",
       "    <tr style=\"text-align: right;\">\n",
       "      <th></th>\n",
       "      <th>PostalCode</th>\n",
       "      <th>Latitude</th>\n",
       "      <th>Longitude</th>\n",
       "    </tr>\n",
       "  </thead>\n",
       "  <tbody>\n",
       "    <tr>\n",
       "      <th>0</th>\n",
       "      <td>M1B</td>\n",
       "      <td>43.806686</td>\n",
       "      <td>-79.194353</td>\n",
       "    </tr>\n",
       "    <tr>\n",
       "      <th>1</th>\n",
       "      <td>M1C</td>\n",
       "      <td>43.784535</td>\n",
       "      <td>-79.160497</td>\n",
       "    </tr>\n",
       "    <tr>\n",
       "      <th>2</th>\n",
       "      <td>M1E</td>\n",
       "      <td>43.763573</td>\n",
       "      <td>-79.188711</td>\n",
       "    </tr>\n",
       "    <tr>\n",
       "      <th>3</th>\n",
       "      <td>M1G</td>\n",
       "      <td>43.770992</td>\n",
       "      <td>-79.216917</td>\n",
       "    </tr>\n",
       "    <tr>\n",
       "      <th>4</th>\n",
       "      <td>M1H</td>\n",
       "      <td>43.773136</td>\n",
       "      <td>-79.239476</td>\n",
       "    </tr>\n",
       "  </tbody>\n",
       "</table>\n",
       "</div>"
      ],
      "text/plain": [
       "  PostalCode   Latitude  Longitude\n",
       "0        M1B  43.806686 -79.194353\n",
       "1        M1C  43.784535 -79.160497\n",
       "2        M1E  43.763573 -79.188711\n",
       "3        M1G  43.770992 -79.216917\n",
       "4        M1H  43.773136 -79.239476"
      ]
     },
     "execution_count": 21,
     "metadata": {},
     "output_type": "execute_result"
    }
   ],
   "source": [
    "# Read in coordinate data for gathered postal codes.\n",
    "df = pd.read_csv('https://cocl.us/Geospatial_data')\n",
    "df.columns = ['PostalCode', 'Latitude', 'Longitude']\n",
    "df.head()"
   ]
  },
  {
   "cell_type": "code",
   "execution_count": 22,
   "metadata": {},
   "outputs": [
    {
     "data": {
      "text/html": [
       "<div>\n",
       "<style scoped>\n",
       "    .dataframe tbody tr th:only-of-type {\n",
       "        vertical-align: middle;\n",
       "    }\n",
       "\n",
       "    .dataframe tbody tr th {\n",
       "        vertical-align: top;\n",
       "    }\n",
       "\n",
       "    .dataframe thead th {\n",
       "        text-align: right;\n",
       "    }\n",
       "</style>\n",
       "<table border=\"1\" class=\"dataframe\">\n",
       "  <thead>\n",
       "    <tr style=\"text-align: right;\">\n",
       "      <th></th>\n",
       "      <th>Neighborhood</th>\n",
       "      <th>Latitude</th>\n",
       "      <th>Longitude</th>\n",
       "    </tr>\n",
       "  </thead>\n",
       "  <tbody>\n",
       "    <tr>\n",
       "      <th>0</th>\n",
       "      <td>Rouge, Malvern</td>\n",
       "      <td>43.806686</td>\n",
       "      <td>-79.194353</td>\n",
       "    </tr>\n",
       "    <tr>\n",
       "      <th>1</th>\n",
       "      <td>Highland Creek, Rouge Hill, Port Union</td>\n",
       "      <td>43.784535</td>\n",
       "      <td>-79.160497</td>\n",
       "    </tr>\n",
       "    <tr>\n",
       "      <th>2</th>\n",
       "      <td>Guildwood, Morningside, West Hill</td>\n",
       "      <td>43.763573</td>\n",
       "      <td>-79.188711</td>\n",
       "    </tr>\n",
       "    <tr>\n",
       "      <th>3</th>\n",
       "      <td>Woburn</td>\n",
       "      <td>43.770992</td>\n",
       "      <td>-79.216917</td>\n",
       "    </tr>\n",
       "    <tr>\n",
       "      <th>4</th>\n",
       "      <td>Cedarbrae</td>\n",
       "      <td>43.773136</td>\n",
       "      <td>-79.239476</td>\n",
       "    </tr>\n",
       "  </tbody>\n",
       "</table>\n",
       "</div>"
      ],
      "text/plain": [
       "                             Neighborhood   Latitude  Longitude\n",
       "0                          Rouge, Malvern  43.806686 -79.194353\n",
       "1  Highland Creek, Rouge Hill, Port Union  43.784535 -79.160497\n",
       "2       Guildwood, Morningside, West Hill  43.763573 -79.188711\n",
       "3                                  Woburn  43.770992 -79.216917\n",
       "4                               Cedarbrae  43.773136 -79.239476"
      ]
     },
     "execution_count": 22,
     "metadata": {},
     "output_type": "execute_result"
    }
   ],
   "source": [
    "# Replace postal codes with Neighborhood names DataFrames.\n",
    "toronto_coords = postalcode_df.join(df.set_index('PostalCode'), on='PostalCode')\n",
    "toronto_coords = toronto_coords.drop(columns=['PostalCode', 'Borough'])\n",
    "toronto_coords.head()"
   ]
  },
  {
   "cell_type": "code",
   "execution_count": 23,
   "metadata": {},
   "outputs": [
    {
     "data": {
      "text/plain": [
       "(103, 3)"
      ]
     },
     "execution_count": 23,
     "metadata": {},
     "output_type": "execute_result"
    }
   ],
   "source": [
    "# Get dimensions of Toronto DataFrame.\n",
    "toronto_coords.shape"
   ]
  },
  {
   "cell_type": "markdown",
   "metadata": {},
   "source": [
    "### Retrieve Venues from Foursquare"
   ]
  },
  {
   "cell_type": "markdown",
   "metadata": {},
   "source": [
    "Now that I have neighborhoods and coordinates for Chicago, Los Angeles, New York and Toronto, I will combine them all into one DataFrame and use that to gather the Foursquare venue data."
   ]
  },
  {
   "cell_type": "code",
   "execution_count": 24,
   "metadata": {},
   "outputs": [
    {
     "data": {
      "text/html": [
       "<div>\n",
       "<style scoped>\n",
       "    .dataframe tbody tr th:only-of-type {\n",
       "        vertical-align: middle;\n",
       "    }\n",
       "\n",
       "    .dataframe tbody tr th {\n",
       "        vertical-align: top;\n",
       "    }\n",
       "\n",
       "    .dataframe thead th {\n",
       "        text-align: right;\n",
       "    }\n",
       "</style>\n",
       "<table border=\"1\" class=\"dataframe\">\n",
       "  <thead>\n",
       "    <tr style=\"text-align: right;\">\n",
       "      <th></th>\n",
       "      <th>Neighborhood</th>\n",
       "      <th>Latitude</th>\n",
       "      <th>Longitude</th>\n",
       "      <th>City</th>\n",
       "    </tr>\n",
       "  </thead>\n",
       "  <tbody>\n",
       "    <tr>\n",
       "      <th>0</th>\n",
       "      <td>Grand Boulevard</td>\n",
       "      <td>41.8168</td>\n",
       "      <td>-87.6067</td>\n",
       "      <td>Chicago</td>\n",
       "    </tr>\n",
       "    <tr>\n",
       "      <th>1</th>\n",
       "      <td>Printers Row</td>\n",
       "      <td>41.8744</td>\n",
       "      <td>-87.6276</td>\n",
       "      <td>Chicago</td>\n",
       "    </tr>\n",
       "    <tr>\n",
       "      <th>2</th>\n",
       "      <td>United Center</td>\n",
       "      <td>41.8889</td>\n",
       "      <td>-87.6671</td>\n",
       "      <td>Chicago</td>\n",
       "    </tr>\n",
       "    <tr>\n",
       "      <th>3</th>\n",
       "      <td>Sheffield &amp; DePaul</td>\n",
       "      <td>41.9217</td>\n",
       "      <td>-87.6583</td>\n",
       "      <td>Chicago</td>\n",
       "    </tr>\n",
       "    <tr>\n",
       "      <th>4</th>\n",
       "      <td>Humboldt Park</td>\n",
       "      <td>41.8878</td>\n",
       "      <td>-87.7406</td>\n",
       "      <td>Chicago</td>\n",
       "    </tr>\n",
       "  </tbody>\n",
       "</table>\n",
       "</div>"
      ],
      "text/plain": [
       "         Neighborhood Latitude Longitude     City\n",
       "0     Grand Boulevard  41.8168  -87.6067  Chicago\n",
       "1        Printers Row  41.8744  -87.6276  Chicago\n",
       "2       United Center  41.8889  -87.6671  Chicago\n",
       "3  Sheffield & DePaul  41.9217  -87.6583  Chicago\n",
       "4       Humboldt Park  41.8878  -87.7406  Chicago"
      ]
     },
     "execution_count": 24,
     "metadata": {},
     "output_type": "execute_result"
    }
   ],
   "source": [
    "# Add \"City\" column to each city DataFrame.\n",
    "chicago_coords['City'] = 'Chicago'\n",
    "LA_coords['City'] = 'Los Angeles'\n",
    "NY_coords['City'] = 'New York'\n",
    "toronto_coords['City'] = 'Toronto'\n",
    "\n",
    "# Concatenate all four city DataFrames.\n",
    "all_coords = pd.concat([chicago_coords,LA_coords,NY_coords,toronto_coords], axis=0).reset_index(drop=True)\n",
    "all_coords.head()"
   ]
  },
  {
   "cell_type": "code",
   "execution_count": 23,
   "metadata": {},
   "outputs": [
    {
     "data": {
      "text/plain": [
       "New York       306\n",
       "Los Angeles    272\n",
       "Toronto        103\n",
       "Chicago         98\n",
       "Name: City, dtype: int64"
      ]
     },
     "execution_count": 23,
     "metadata": {},
     "output_type": "execute_result"
    }
   ],
   "source": [
    "# Check counts of neighborhoods for each city.\n",
    "all_coords.City.value_counts()"
   ]
  },
  {
   "cell_type": "code",
   "execution_count": 25,
   "metadata": {},
   "outputs": [
    {
     "data": {
      "text/plain": [
       "(779, 4)"
      ]
     },
     "execution_count": 25,
     "metadata": {},
     "output_type": "execute_result"
    }
   ],
   "source": [
    "# Check dimensions of combined DataFrame.\n",
    "all_coords.shape"
   ]
  },
  {
   "cell_type": "markdown",
   "metadata": {},
   "source": [
    "With the combined DataFrame, I can gather the Foursquare venue data."
   ]
  },
  {
   "cell_type": "code",
   "execution_count": 25,
   "metadata": {},
   "outputs": [
    {
     "data": {
      "text/html": [
       "<div>\n",
       "<style scoped>\n",
       "    .dataframe tbody tr th:only-of-type {\n",
       "        vertical-align: middle;\n",
       "    }\n",
       "\n",
       "    .dataframe tbody tr th {\n",
       "        vertical-align: top;\n",
       "    }\n",
       "\n",
       "    .dataframe thead th {\n",
       "        text-align: right;\n",
       "    }\n",
       "</style>\n",
       "<table border=\"1\" class=\"dataframe\">\n",
       "  <thead>\n",
       "    <tr style=\"text-align: right;\">\n",
       "      <th></th>\n",
       "      <th>Neighborhood</th>\n",
       "      <th>Neighborhood Latitude</th>\n",
       "      <th>Neighborhood Longitude</th>\n",
       "      <th>City</th>\n",
       "      <th>Venue</th>\n",
       "      <th>Venue Latitude</th>\n",
       "      <th>Venue Longitude</th>\n",
       "      <th>Venue Category</th>\n",
       "    </tr>\n",
       "  </thead>\n",
       "  <tbody>\n",
       "    <tr>\n",
       "      <th>0</th>\n",
       "      <td>Grand Boulevard</td>\n",
       "      <td>41.8168</td>\n",
       "      <td>-87.6067</td>\n",
       "      <td>Chicago</td>\n",
       "      <td>Some Like It Black Creative Arts Bar</td>\n",
       "      <td>41.818432</td>\n",
       "      <td>-87.605251</td>\n",
       "      <td>Juice Bar</td>\n",
       "    </tr>\n",
       "    <tr>\n",
       "      <th>1</th>\n",
       "      <td>Grand Boulevard</td>\n",
       "      <td>41.8168</td>\n",
       "      <td>-87.6067</td>\n",
       "      <td>Chicago</td>\n",
       "      <td>Just Turkey Restaurant</td>\n",
       "      <td>41.815248</td>\n",
       "      <td>-87.606212</td>\n",
       "      <td>BBQ Joint</td>\n",
       "    </tr>\n",
       "    <tr>\n",
       "      <th>2</th>\n",
       "      <td>Grand Boulevard</td>\n",
       "      <td>41.8168</td>\n",
       "      <td>-87.6067</td>\n",
       "      <td>Chicago</td>\n",
       "      <td>Norman's Bistro</td>\n",
       "      <td>41.816795</td>\n",
       "      <td>-87.601809</td>\n",
       "      <td>Restaurant</td>\n",
       "    </tr>\n",
       "    <tr>\n",
       "      <th>3</th>\n",
       "      <td>Grand Boulevard</td>\n",
       "      <td>41.8168</td>\n",
       "      <td>-87.6067</td>\n",
       "      <td>Chicago</td>\n",
       "      <td>Honey 1 BBQ</td>\n",
       "      <td>41.816910</td>\n",
       "      <td>-87.607320</td>\n",
       "      <td>BBQ Joint</td>\n",
       "    </tr>\n",
       "    <tr>\n",
       "      <th>4</th>\n",
       "      <td>Grand Boulevard</td>\n",
       "      <td>41.8168</td>\n",
       "      <td>-87.6067</td>\n",
       "      <td>Chicago</td>\n",
       "      <td>Family Dollar</td>\n",
       "      <td>41.813800</td>\n",
       "      <td>-87.606318</td>\n",
       "      <td>Discount Store</td>\n",
       "    </tr>\n",
       "  </tbody>\n",
       "</table>\n",
       "</div>"
      ],
      "text/plain": [
       "      Neighborhood Neighborhood Latitude Neighborhood Longitude     City  \\\n",
       "0  Grand Boulevard               41.8168               -87.6067  Chicago   \n",
       "1  Grand Boulevard               41.8168               -87.6067  Chicago   \n",
       "2  Grand Boulevard               41.8168               -87.6067  Chicago   \n",
       "3  Grand Boulevard               41.8168               -87.6067  Chicago   \n",
       "4  Grand Boulevard               41.8168               -87.6067  Chicago   \n",
       "\n",
       "                                  Venue  Venue Latitude  Venue Longitude  \\\n",
       "0  Some Like It Black Creative Arts Bar       41.818432       -87.605251   \n",
       "1                Just Turkey Restaurant       41.815248       -87.606212   \n",
       "2                       Norman's Bistro       41.816795       -87.601809   \n",
       "3                           Honey 1 BBQ       41.816910       -87.607320   \n",
       "4                         Family Dollar       41.813800       -87.606318   \n",
       "\n",
       "   Venue Category  \n",
       "0       Juice Bar  \n",
       "1       BBQ Joint  \n",
       "2      Restaurant  \n",
       "3       BBQ Joint  \n",
       "4  Discount Store  "
      ]
     },
     "execution_count": 25,
     "metadata": {},
     "output_type": "execute_result"
    }
   ],
   "source": [
    "#Retrieve venue data from Foursquare.\n",
    "venues_list=[]\n",
    "for name, lat, lng, city in zip(all_coords['Neighborhood'], \n",
    "                          all_coords['Latitude'], \n",
    "                          all_coords['Longitude'],all_coords['City']):\n",
    "\n",
    "    # create the API request URL\n",
    "    url = 'https://api.foursquare.com/v2/venues/explore?&client_id={}&client_secret={}&v={}&ll={},{}&radius={}&limit={}'.format(\n",
    "        CLIENT_ID, \n",
    "        CLIENT_SECRET, \n",
    "        VERSION, \n",
    "        lat, \n",
    "        lng, \n",
    "        radius, \n",
    "        LIMIT)\n",
    "\n",
    "    # make the GET request\n",
    "    results = requests.get(url).json()[\"response\"]['groups'][0]['items']\n",
    "\n",
    "    # return only relevant information for each nearby venue\n",
    "    venues_list.append([(\n",
    "        name, \n",
    "        lat, \n",
    "        lng,\n",
    "        city,\n",
    "        v['venue']['name'], \n",
    "        v['venue']['location']['lat'], \n",
    "        v['venue']['location']['lng'],  \n",
    "        v['venue']['categories'][0]['name']) for v in results])\n",
    "\n",
    "\n",
    "    all_venues_ = pd.DataFrame([item for venue_list in venues_list for item in venue_list])\n",
    "    all_venues_.columns = ['Neighborhood', \n",
    "                               'Neighborhood Latitude', \n",
    "                               'Neighborhood Longitude',\n",
    "                               'City',\n",
    "                               'Venue', \n",
    "                               'Venue Latitude', \n",
    "                               'Venue Longitude', \n",
    "                               'Venue Category']\n",
    "\n",
    "\n",
    "all_venues_.head()"
   ]
  },
  {
   "cell_type": "markdown",
   "metadata": {},
   "source": [
    "So I do not need to make API calls every time I work on this, I will save the full venues DataFrame as a csv file."
   ]
  },
  {
   "cell_type": "code",
   "execution_count": 32,
   "metadata": {},
   "outputs": [
    {
     "data": {
      "text/plain": [
       "{'file_name': 'all_venues.csv',\n",
       " 'message': 'File saved to project storage.',\n",
       " 'bucket_name': 'courseracapstonebattleoftheneighb-donotdelete-pr-bhmhnb8jotwbru',\n",
       " 'asset_id': 'd0322822-1ae6-4ffd-962a-1e666003d07e'}"
      ]
     },
     "execution_count": 32,
     "metadata": {},
     "output_type": "execute_result"
    }
   ],
   "source": [
    "# Save DataFrame as csv in Watson Studio project files.\n",
    "project.save_data(data=all_venues_.to_csv(index=False),file_name='all_venues.csv',overwrite=True)"
   ]
  },
  {
   "cell_type": "markdown",
   "metadata": {},
   "source": [
    "Now I can retrieve the data without API calls."
   ]
  },
  {
   "cell_type": "code",
   "execution_count": 26,
   "metadata": {},
   "outputs": [
    {
     "data": {
      "text/html": [
       "<div>\n",
       "<style scoped>\n",
       "    .dataframe tbody tr th:only-of-type {\n",
       "        vertical-align: middle;\n",
       "    }\n",
       "\n",
       "    .dataframe tbody tr th {\n",
       "        vertical-align: top;\n",
       "    }\n",
       "\n",
       "    .dataframe thead th {\n",
       "        text-align: right;\n",
       "    }\n",
       "</style>\n",
       "<table border=\"1\" class=\"dataframe\">\n",
       "  <thead>\n",
       "    <tr style=\"text-align: right;\">\n",
       "      <th></th>\n",
       "      <th>Neighborhood</th>\n",
       "      <th>Neighborhood Latitude</th>\n",
       "      <th>Neighborhood Longitude</th>\n",
       "      <th>City</th>\n",
       "      <th>Venue</th>\n",
       "      <th>Venue Latitude</th>\n",
       "      <th>Venue Longitude</th>\n",
       "      <th>Venue Category</th>\n",
       "    </tr>\n",
       "  </thead>\n",
       "  <tbody>\n",
       "    <tr>\n",
       "      <th>0</th>\n",
       "      <td>Grand Boulevard</td>\n",
       "      <td>41.816814</td>\n",
       "      <td>-87.606708</td>\n",
       "      <td>Chicago</td>\n",
       "      <td>Some Like It Black Creative Arts Bar</td>\n",
       "      <td>41.818432</td>\n",
       "      <td>-87.605251</td>\n",
       "      <td>Juice Bar</td>\n",
       "    </tr>\n",
       "    <tr>\n",
       "      <th>1</th>\n",
       "      <td>Grand Boulevard</td>\n",
       "      <td>41.816814</td>\n",
       "      <td>-87.606708</td>\n",
       "      <td>Chicago</td>\n",
       "      <td>Just Turkey Restaurant</td>\n",
       "      <td>41.815248</td>\n",
       "      <td>-87.606212</td>\n",
       "      <td>BBQ Joint</td>\n",
       "    </tr>\n",
       "    <tr>\n",
       "      <th>2</th>\n",
       "      <td>Grand Boulevard</td>\n",
       "      <td>41.816814</td>\n",
       "      <td>-87.606708</td>\n",
       "      <td>Chicago</td>\n",
       "      <td>Norman's Bistro</td>\n",
       "      <td>41.816795</td>\n",
       "      <td>-87.601809</td>\n",
       "      <td>Restaurant</td>\n",
       "    </tr>\n",
       "    <tr>\n",
       "      <th>3</th>\n",
       "      <td>Grand Boulevard</td>\n",
       "      <td>41.816814</td>\n",
       "      <td>-87.606708</td>\n",
       "      <td>Chicago</td>\n",
       "      <td>Honey 1 BBQ</td>\n",
       "      <td>41.816910</td>\n",
       "      <td>-87.607320</td>\n",
       "      <td>BBQ Joint</td>\n",
       "    </tr>\n",
       "    <tr>\n",
       "      <th>4</th>\n",
       "      <td>Grand Boulevard</td>\n",
       "      <td>41.816814</td>\n",
       "      <td>-87.606708</td>\n",
       "      <td>Chicago</td>\n",
       "      <td>Family Dollar</td>\n",
       "      <td>41.813800</td>\n",
       "      <td>-87.606318</td>\n",
       "      <td>Discount Store</td>\n",
       "    </tr>\n",
       "  </tbody>\n",
       "</table>\n",
       "</div>"
      ],
      "text/plain": [
       "      Neighborhood  Neighborhood Latitude  Neighborhood Longitude     City  \\\n",
       "0  Grand Boulevard              41.816814              -87.606708  Chicago   \n",
       "1  Grand Boulevard              41.816814              -87.606708  Chicago   \n",
       "2  Grand Boulevard              41.816814              -87.606708  Chicago   \n",
       "3  Grand Boulevard              41.816814              -87.606708  Chicago   \n",
       "4  Grand Boulevard              41.816814              -87.606708  Chicago   \n",
       "\n",
       "                                  Venue  Venue Latitude  Venue Longitude  \\\n",
       "0  Some Like It Black Creative Arts Bar       41.818432       -87.605251   \n",
       "1                Just Turkey Restaurant       41.815248       -87.606212   \n",
       "2                       Norman's Bistro       41.816795       -87.601809   \n",
       "3                           Honey 1 BBQ       41.816910       -87.607320   \n",
       "4                         Family Dollar       41.813800       -87.606318   \n",
       "\n",
       "   Venue Category  \n",
       "0       Juice Bar  \n",
       "1       BBQ Joint  \n",
       "2      Restaurant  \n",
       "3       BBQ Joint  \n",
       "4  Discount Store  "
      ]
     },
     "execution_count": 26,
     "metadata": {},
     "output_type": "execute_result"
    }
   ],
   "source": [
    "# Read in \"all_venues.csv\" file.\n",
    "all_venues_ = pd.read_csv(project.get_file('all_venues.csv'))\n",
    "all_venues_.head()"
   ]
  },
  {
   "cell_type": "code",
   "execution_count": 5,
   "metadata": {},
   "outputs": [
    {
     "data": {
      "text/plain": [
       "(17931, 8)"
      ]
     },
     "execution_count": 5,
     "metadata": {},
     "output_type": "execute_result"
    }
   ],
   "source": [
    "# Check Dimensions of \"all_venues_\" DataFrame.\n",
    "all_venues_.shape"
   ]
  },
  {
   "cell_type": "markdown",
   "metadata": {},
   "source": [
    "With Foursquare, it is possible that there are venues with overlapping neighborhoods.  I want to eliminate the duplicates so each venue only appears once."
   ]
  },
  {
   "cell_type": "code",
   "execution_count": 6,
   "metadata": {},
   "outputs": [
    {
     "data": {
      "text/html": [
       "<div>\n",
       "<style scoped>\n",
       "    .dataframe tbody tr th:only-of-type {\n",
       "        vertical-align: middle;\n",
       "    }\n",
       "\n",
       "    .dataframe tbody tr th {\n",
       "        vertical-align: top;\n",
       "    }\n",
       "\n",
       "    .dataframe thead th {\n",
       "        text-align: right;\n",
       "    }\n",
       "</style>\n",
       "<table border=\"1\" class=\"dataframe\">\n",
       "  <thead>\n",
       "    <tr style=\"text-align: right;\">\n",
       "      <th></th>\n",
       "      <th>Neighborhood</th>\n",
       "      <th>Neighborhood Latitude</th>\n",
       "      <th>Neighborhood Longitude</th>\n",
       "      <th>City</th>\n",
       "      <th>Venue</th>\n",
       "      <th>Venue Latitude</th>\n",
       "      <th>Venue Longitude</th>\n",
       "      <th>Venue Category</th>\n",
       "      <th>Dup</th>\n",
       "    </tr>\n",
       "  </thead>\n",
       "  <tbody>\n",
       "    <tr>\n",
       "      <th>1738</th>\n",
       "      <td>Hyde Park</td>\n",
       "      <td>41.793487</td>\n",
       "      <td>-87.579301</td>\n",
       "      <td>Chicago</td>\n",
       "      <td>#55 Bus Stop</td>\n",
       "      <td>41.794773</td>\n",
       "      <td>-87.583568</td>\n",
       "      <td>Bus Station</td>\n",
       "      <td>True</td>\n",
       "    </tr>\n",
       "    <tr>\n",
       "      <th>511</th>\n",
       "      <td>Jackson Park</td>\n",
       "      <td>41.793395</td>\n",
       "      <td>-87.579302</td>\n",
       "      <td>Chicago</td>\n",
       "      <td>#55 Bus Stop</td>\n",
       "      <td>41.794773</td>\n",
       "      <td>-87.583568</td>\n",
       "      <td>Bus Station</td>\n",
       "      <td>True</td>\n",
       "    </tr>\n",
       "    <tr>\n",
       "      <th>10772</th>\n",
       "      <td>Soho</td>\n",
       "      <td>40.722184</td>\n",
       "      <td>-74.000657</td>\n",
       "      <td>New York</td>\n",
       "      <td>19 Cleveland</td>\n",
       "      <td>40.721608</td>\n",
       "      <td>-73.997249</td>\n",
       "      <td>Mediterranean Restaurant</td>\n",
       "      <td>True</td>\n",
       "    </tr>\n",
       "    <tr>\n",
       "      <th>10647</th>\n",
       "      <td>Little Italy</td>\n",
       "      <td>40.719324</td>\n",
       "      <td>-73.997305</td>\n",
       "      <td>New York</td>\n",
       "      <td>19 Cleveland</td>\n",
       "      <td>40.721608</td>\n",
       "      <td>-73.997249</td>\n",
       "      <td>Mediterranean Restaurant</td>\n",
       "      <td>True</td>\n",
       "    </tr>\n",
       "    <tr>\n",
       "      <th>8311</th>\n",
       "      <td>Boerum Hill</td>\n",
       "      <td>40.685683</td>\n",
       "      <td>-73.983748</td>\n",
       "      <td>New York</td>\n",
       "      <td>2 Bros. Pizza</td>\n",
       "      <td>40.689394</td>\n",
       "      <td>-73.981125</td>\n",
       "      <td>Pizza Place</td>\n",
       "      <td>True</td>\n",
       "    </tr>\n",
       "    <tr>\n",
       "      <th>8214</th>\n",
       "      <td>Downtown</td>\n",
       "      <td>40.690844</td>\n",
       "      <td>-73.983463</td>\n",
       "      <td>New York</td>\n",
       "      <td>2 Bros. Pizza</td>\n",
       "      <td>40.689394</td>\n",
       "      <td>-73.981125</td>\n",
       "      <td>Pizza Place</td>\n",
       "      <td>True</td>\n",
       "    </tr>\n",
       "    <tr>\n",
       "      <th>14869</th>\n",
       "      <td>Tudor City</td>\n",
       "      <td>40.746917</td>\n",
       "      <td>-73.971219</td>\n",
       "      <td>New York</td>\n",
       "      <td>251 Ginza Sushi</td>\n",
       "      <td>40.745567</td>\n",
       "      <td>-73.975706</td>\n",
       "      <td>Sushi Restaurant</td>\n",
       "      <td>True</td>\n",
       "    </tr>\n",
       "    <tr>\n",
       "      <th>10153</th>\n",
       "      <td>Murray Hill</td>\n",
       "      <td>40.748303</td>\n",
       "      <td>-73.978332</td>\n",
       "      <td>New York</td>\n",
       "      <td>251 Ginza Sushi</td>\n",
       "      <td>40.745567</td>\n",
       "      <td>-73.975706</td>\n",
       "      <td>Sushi Restaurant</td>\n",
       "      <td>True</td>\n",
       "    </tr>\n",
       "    <tr>\n",
       "      <th>689</th>\n",
       "      <td>Museum Campus</td>\n",
       "      <td>41.867473</td>\n",
       "      <td>-87.612347</td>\n",
       "      <td>Chicago</td>\n",
       "      <td>4-D Experience</td>\n",
       "      <td>41.867347</td>\n",
       "      <td>-87.613256</td>\n",
       "      <td>Movie Theater</td>\n",
       "      <td>True</td>\n",
       "    </tr>\n",
       "    <tr>\n",
       "      <th>978</th>\n",
       "      <td>Grant Park</td>\n",
       "      <td>41.867587</td>\n",
       "      <td>-87.618891</td>\n",
       "      <td>Chicago</td>\n",
       "      <td>4-D Experience</td>\n",
       "      <td>41.867347</td>\n",
       "      <td>-87.613256</td>\n",
       "      <td>Movie Theater</td>\n",
       "      <td>True</td>\n",
       "    </tr>\n",
       "    <tr>\n",
       "      <th>16339</th>\n",
       "      <td>Church and Wellesley</td>\n",
       "      <td>43.665860</td>\n",
       "      <td>-79.383160</td>\n",
       "      <td>Toronto</td>\n",
       "      <td>401 Games</td>\n",
       "      <td>43.663623</td>\n",
       "      <td>-79.384037</td>\n",
       "      <td>Hobby Shop</td>\n",
       "      <td>True</td>\n",
       "    </tr>\n",
       "    <tr>\n",
       "      <th>17799</th>\n",
       "      <td>Queen's Park</td>\n",
       "      <td>43.662301</td>\n",
       "      <td>-79.389494</td>\n",
       "      <td>Toronto</td>\n",
       "      <td>401 Games</td>\n",
       "      <td>43.663623</td>\n",
       "      <td>-79.384037</td>\n",
       "      <td>Hobby Shop</td>\n",
       "      <td>True</td>\n",
       "    </tr>\n",
       "    <tr>\n",
       "      <th>940</th>\n",
       "      <td>Oakland</td>\n",
       "      <td>41.816929</td>\n",
       "      <td>-87.592153</td>\n",
       "      <td>Chicago</td>\n",
       "      <td>43rd L S D</td>\n",
       "      <td>41.818482</td>\n",
       "      <td>-87.595962</td>\n",
       "      <td>Basketball Court</td>\n",
       "      <td>True</td>\n",
       "    </tr>\n",
       "    <tr>\n",
       "      <th>1269</th>\n",
       "      <td>Kenwood</td>\n",
       "      <td>41.816929</td>\n",
       "      <td>-87.592153</td>\n",
       "      <td>Chicago</td>\n",
       "      <td>43rd L S D</td>\n",
       "      <td>41.818482</td>\n",
       "      <td>-87.595962</td>\n",
       "      <td>Basketball Court</td>\n",
       "      <td>True</td>\n",
       "    </tr>\n",
       "    <tr>\n",
       "      <th>9896</th>\n",
       "      <td>Clinton</td>\n",
       "      <td>40.759101</td>\n",
       "      <td>-73.996119</td>\n",
       "      <td>New York</td>\n",
       "      <td>505W37</td>\n",
       "      <td>40.756909</td>\n",
       "      <td>-73.998007</td>\n",
       "      <td>Residential Building (Apartment / Condo)</td>\n",
       "      <td>True</td>\n",
       "    </tr>\n",
       "    <tr>\n",
       "      <th>15595</th>\n",
       "      <td>Hudson Yards</td>\n",
       "      <td>40.756658</td>\n",
       "      <td>-74.000111</td>\n",
       "      <td>New York</td>\n",
       "      <td>505W37</td>\n",
       "      <td>40.756909</td>\n",
       "      <td>-73.998007</td>\n",
       "      <td>Residential Building (Apartment / Condo)</td>\n",
       "      <td>True</td>\n",
       "    </tr>\n",
       "    <tr>\n",
       "      <th>15624</th>\n",
       "      <td>Hudson Yards</td>\n",
       "      <td>40.756658</td>\n",
       "      <td>-74.000111</td>\n",
       "      <td>New York</td>\n",
       "      <td>505W37 Gym</td>\n",
       "      <td>40.757275</td>\n",
       "      <td>-73.997797</td>\n",
       "      <td>Gym</td>\n",
       "      <td>True</td>\n",
       "    </tr>\n",
       "    <tr>\n",
       "      <th>9952</th>\n",
       "      <td>Clinton</td>\n",
       "      <td>40.759101</td>\n",
       "      <td>-73.996119</td>\n",
       "      <td>New York</td>\n",
       "      <td>505W37 Gym</td>\n",
       "      <td>40.757275</td>\n",
       "      <td>-73.997797</td>\n",
       "      <td>Gym</td>\n",
       "      <td>True</td>\n",
       "    </tr>\n",
       "    <tr>\n",
       "      <th>505</th>\n",
       "      <td>Jackson Park</td>\n",
       "      <td>41.793395</td>\n",
       "      <td>-87.579302</td>\n",
       "      <td>Chicago</td>\n",
       "      <td>55th street beach</td>\n",
       "      <td>41.795033</td>\n",
       "      <td>-87.579657</td>\n",
       "      <td>Beach</td>\n",
       "      <td>True</td>\n",
       "    </tr>\n",
       "    <tr>\n",
       "      <th>1733</th>\n",
       "      <td>Hyde Park</td>\n",
       "      <td>41.793487</td>\n",
       "      <td>-87.579301</td>\n",
       "      <td>Chicago</td>\n",
       "      <td>55th street beach</td>\n",
       "      <td>41.795033</td>\n",
       "      <td>-87.579657</td>\n",
       "      <td>Beach</td>\n",
       "      <td>True</td>\n",
       "    </tr>\n",
       "  </tbody>\n",
       "</table>\n",
       "</div>"
      ],
      "text/plain": [
       "               Neighborhood  Neighborhood Latitude  Neighborhood Longitude  \\\n",
       "1738              Hyde Park              41.793487              -87.579301   \n",
       "511            Jackson Park              41.793395              -87.579302   \n",
       "10772                  Soho              40.722184              -74.000657   \n",
       "10647          Little Italy              40.719324              -73.997305   \n",
       "8311            Boerum Hill              40.685683              -73.983748   \n",
       "8214               Downtown              40.690844              -73.983463   \n",
       "14869            Tudor City              40.746917              -73.971219   \n",
       "10153           Murray Hill              40.748303              -73.978332   \n",
       "689           Museum Campus              41.867473              -87.612347   \n",
       "978              Grant Park              41.867587              -87.618891   \n",
       "16339  Church and Wellesley              43.665860              -79.383160   \n",
       "17799          Queen's Park              43.662301              -79.389494   \n",
       "940                 Oakland              41.816929              -87.592153   \n",
       "1269                Kenwood              41.816929              -87.592153   \n",
       "9896                Clinton              40.759101              -73.996119   \n",
       "15595          Hudson Yards              40.756658              -74.000111   \n",
       "15624          Hudson Yards              40.756658              -74.000111   \n",
       "9952                Clinton              40.759101              -73.996119   \n",
       "505            Jackson Park              41.793395              -87.579302   \n",
       "1733              Hyde Park              41.793487              -87.579301   \n",
       "\n",
       "           City              Venue  Venue Latitude  Venue Longitude  \\\n",
       "1738    Chicago       #55 Bus Stop       41.794773       -87.583568   \n",
       "511     Chicago       #55 Bus Stop       41.794773       -87.583568   \n",
       "10772  New York       19 Cleveland       40.721608       -73.997249   \n",
       "10647  New York       19 Cleveland       40.721608       -73.997249   \n",
       "8311   New York      2 Bros. Pizza       40.689394       -73.981125   \n",
       "8214   New York      2 Bros. Pizza       40.689394       -73.981125   \n",
       "14869  New York    251 Ginza Sushi       40.745567       -73.975706   \n",
       "10153  New York    251 Ginza Sushi       40.745567       -73.975706   \n",
       "689     Chicago     4-D Experience       41.867347       -87.613256   \n",
       "978     Chicago     4-D Experience       41.867347       -87.613256   \n",
       "16339   Toronto          401 Games       43.663623       -79.384037   \n",
       "17799   Toronto          401 Games       43.663623       -79.384037   \n",
       "940     Chicago         43rd L S D       41.818482       -87.595962   \n",
       "1269    Chicago         43rd L S D       41.818482       -87.595962   \n",
       "9896   New York             505W37       40.756909       -73.998007   \n",
       "15595  New York             505W37       40.756909       -73.998007   \n",
       "15624  New York         505W37 Gym       40.757275       -73.997797   \n",
       "9952   New York         505W37 Gym       40.757275       -73.997797   \n",
       "505     Chicago  55th street beach       41.795033       -87.579657   \n",
       "1733    Chicago  55th street beach       41.795033       -87.579657   \n",
       "\n",
       "                                 Venue Category   Dup  \n",
       "1738                                Bus Station  True  \n",
       "511                                 Bus Station  True  \n",
       "10772                  Mediterranean Restaurant  True  \n",
       "10647                  Mediterranean Restaurant  True  \n",
       "8311                                Pizza Place  True  \n",
       "8214                                Pizza Place  True  \n",
       "14869                          Sushi Restaurant  True  \n",
       "10153                          Sushi Restaurant  True  \n",
       "689                               Movie Theater  True  \n",
       "978                               Movie Theater  True  \n",
       "16339                                Hobby Shop  True  \n",
       "17799                                Hobby Shop  True  \n",
       "940                            Basketball Court  True  \n",
       "1269                           Basketball Court  True  \n",
       "9896   Residential Building (Apartment / Condo)  True  \n",
       "15595  Residential Building (Apartment / Condo)  True  \n",
       "15624                                       Gym  True  \n",
       "9952                                        Gym  True  \n",
       "505                                       Beach  True  \n",
       "1733                                      Beach  True  "
      ]
     },
     "execution_count": 6,
     "metadata": {},
     "output_type": "execute_result"
    }
   ],
   "source": [
    "# Create a copy of the venus DataFrame so I can keep a clean, unedited original.\n",
    "all_venues = all_venues_.copy()\n",
    "\n",
    "# Check DataFrame for duplicate venue entries.\n",
    "all_venues['Dup'] = (all_venues.duplicated(subset=['Venue Longitude', 'Venue Latitude', 'Venue'], keep=False))\n",
    "all_venues[all_venues.Dup == True].sort_values('Venue').head(20)"
   ]
  },
  {
   "cell_type": "code",
   "execution_count": 7,
   "metadata": {},
   "outputs": [
    {
     "data": {
      "text/plain": [
       "2377"
      ]
     },
     "execution_count": 7,
     "metadata": {},
     "output_type": "execute_result"
    }
   ],
   "source": [
    "# Check count of duplicate entries.\n",
    "len(all_venues[all_venues.Dup == True])"
   ]
  },
  {
   "cell_type": "code",
   "execution_count": 8,
   "metadata": {},
   "outputs": [
    {
     "data": {
      "text/plain": [
       "1303"
      ]
     },
     "execution_count": 8,
     "metadata": {},
     "output_type": "execute_result"
    }
   ],
   "source": [
    "# Check count of duplicate entries that will be deleted if we keep only one from each set of duplicates.\n",
    "all_venues['Dup'] = (all_venues.duplicated(subset=['Venue Longitude', 'Venue Latitude', 'Venue'], keep='first'))\n",
    "len(all_venues[all_venues.Dup == True])"
   ]
  },
  {
   "cell_type": "code",
   "execution_count": 9,
   "metadata": {},
   "outputs": [
    {
     "data": {
      "text/plain": [
       "(16628, 9)"
      ]
     },
     "execution_count": 9,
     "metadata": {},
     "output_type": "execute_result"
    }
   ],
   "source": [
    "# Remove duplicate entries keeping only one.\n",
    "all_venues = all_venues.drop_duplicates(subset=['Venue Longitude', 'Venue Latitude', 'Venue'], keep='first')\n",
    "\n",
    "# Check dimensions of new DataFrame.\n",
    "all_venues.shape"
   ]
  },
  {
   "cell_type": "markdown",
   "metadata": {},
   "source": [
    "Now there is only one of each venue entry."
   ]
  },
  {
   "cell_type": "markdown",
   "metadata": {},
   "source": [
    "Next, I saw there are some entries with a *Venue Category* of \"Neighborhood\".  These  will be confusing once I prep the data for ML, so I will remove them."
   ]
  },
  {
   "cell_type": "code",
   "execution_count": 10,
   "metadata": {},
   "outputs": [
    {
     "data": {
      "text/html": [
       "<div>\n",
       "<style scoped>\n",
       "    .dataframe tbody tr th:only-of-type {\n",
       "        vertical-align: middle;\n",
       "    }\n",
       "\n",
       "    .dataframe tbody tr th {\n",
       "        vertical-align: top;\n",
       "    }\n",
       "\n",
       "    .dataframe thead th {\n",
       "        text-align: right;\n",
       "    }\n",
       "</style>\n",
       "<table border=\"1\" class=\"dataframe\">\n",
       "  <thead>\n",
       "    <tr style=\"text-align: right;\">\n",
       "      <th></th>\n",
       "      <th>Neighborhood</th>\n",
       "      <th>Neighborhood Latitude</th>\n",
       "      <th>Neighborhood Longitude</th>\n",
       "      <th>City</th>\n",
       "      <th>Venue</th>\n",
       "      <th>Venue Latitude</th>\n",
       "      <th>Venue Longitude</th>\n",
       "      <th>Venue Category</th>\n",
       "      <th>Dup</th>\n",
       "    </tr>\n",
       "  </thead>\n",
       "  <tbody>\n",
       "    <tr>\n",
       "      <th>3334</th>\n",
       "      <td>Downtown</td>\n",
       "      <td>34.040009</td>\n",
       "      <td>-118.248510</td>\n",
       "      <td>Los Angeles</td>\n",
       "      <td>Los Angeles Flower District</td>\n",
       "      <td>34.039336</td>\n",
       "      <td>-118.249496</td>\n",
       "      <td>Neighborhood</td>\n",
       "      <td>False</td>\n",
       "    </tr>\n",
       "    <tr>\n",
       "      <th>3470</th>\n",
       "      <td>El Sereno</td>\n",
       "      <td>34.082242</td>\n",
       "      <td>-118.176298</td>\n",
       "      <td>Los Angeles</td>\n",
       "      <td>El Sereno</td>\n",
       "      <td>34.085806</td>\n",
       "      <td>-118.177146</td>\n",
       "      <td>Neighborhood</td>\n",
       "      <td>False</td>\n",
       "    </tr>\n",
       "    <tr>\n",
       "      <th>3977</th>\n",
       "      <td>Jefferson Park</td>\n",
       "      <td>34.028211</td>\n",
       "      <td>-118.322059</td>\n",
       "      <td>Los Angeles</td>\n",
       "      <td>Jefferson Park</td>\n",
       "      <td>34.024528</td>\n",
       "      <td>-118.319029</td>\n",
       "      <td>Neighborhood</td>\n",
       "      <td>False</td>\n",
       "    </tr>\n",
       "    <tr>\n",
       "      <th>6828</th>\n",
       "      <td>Brighton Beach</td>\n",
       "      <td>40.576825</td>\n",
       "      <td>-73.965094</td>\n",
       "      <td>New York</td>\n",
       "      <td>Little Russia</td>\n",
       "      <td>40.577690</td>\n",
       "      <td>-73.961580</td>\n",
       "      <td>Neighborhood</td>\n",
       "      <td>False</td>\n",
       "    </tr>\n",
       "    <tr>\n",
       "      <th>6833</th>\n",
       "      <td>Brighton Beach</td>\n",
       "      <td>40.576825</td>\n",
       "      <td>-73.965094</td>\n",
       "      <td>New York</td>\n",
       "      <td>Brighton Beach</td>\n",
       "      <td>40.575518</td>\n",
       "      <td>-73.962372</td>\n",
       "      <td>Neighborhood</td>\n",
       "      <td>False</td>\n",
       "    </tr>\n",
       "    <tr>\n",
       "      <th>8004</th>\n",
       "      <td>Gerritsen Beach</td>\n",
       "      <td>40.590848</td>\n",
       "      <td>-73.930102</td>\n",
       "      <td>New York</td>\n",
       "      <td>Gerritsen Beach</td>\n",
       "      <td>40.592377</td>\n",
       "      <td>-73.925009</td>\n",
       "      <td>Neighborhood</td>\n",
       "      <td>False</td>\n",
       "    </tr>\n",
       "    <tr>\n",
       "      <th>14318</th>\n",
       "      <td>Randall Manor</td>\n",
       "      <td>40.635630</td>\n",
       "      <td>-74.098051</td>\n",
       "      <td>New York</td>\n",
       "      <td>Randall Manor</td>\n",
       "      <td>40.634504</td>\n",
       "      <td>-74.102555</td>\n",
       "      <td>Neighborhood</td>\n",
       "      <td>False</td>\n",
       "    </tr>\n",
       "    <tr>\n",
       "      <th>15378</th>\n",
       "      <td>Roxbury</td>\n",
       "      <td>40.567376</td>\n",
       "      <td>-73.892138</td>\n",
       "      <td>New York</td>\n",
       "      <td>Roxbury, NY</td>\n",
       "      <td>40.566788</td>\n",
       "      <td>-73.891715</td>\n",
       "      <td>Neighborhood</td>\n",
       "      <td>False</td>\n",
       "    </tr>\n",
       "    <tr>\n",
       "      <th>15678</th>\n",
       "      <td>Hammels</td>\n",
       "      <td>40.587338</td>\n",
       "      <td>-73.805530</td>\n",
       "      <td>New York</td>\n",
       "      <td>Rockaway Beach, NY</td>\n",
       "      <td>40.585899</td>\n",
       "      <td>-73.809066</td>\n",
       "      <td>Neighborhood</td>\n",
       "      <td>False</td>\n",
       "    </tr>\n",
       "    <tr>\n",
       "      <th>16019</th>\n",
       "      <td>The Beaches</td>\n",
       "      <td>43.676357</td>\n",
       "      <td>-79.293031</td>\n",
       "      <td>Toronto</td>\n",
       "      <td>Upper Beaches</td>\n",
       "      <td>43.680563</td>\n",
       "      <td>-79.292869</td>\n",
       "      <td>Neighborhood</td>\n",
       "      <td>False</td>\n",
       "    </tr>\n",
       "    <tr>\n",
       "      <th>16143</th>\n",
       "      <td>Studio District</td>\n",
       "      <td>43.659526</td>\n",
       "      <td>-79.340923</td>\n",
       "      <td>Toronto</td>\n",
       "      <td>Leslieville</td>\n",
       "      <td>43.662070</td>\n",
       "      <td>-79.337856</td>\n",
       "      <td>Neighborhood</td>\n",
       "      <td>False</td>\n",
       "    </tr>\n",
       "    <tr>\n",
       "      <th>16788</th>\n",
       "      <td>Adelaide, King, Richmond</td>\n",
       "      <td>43.650571</td>\n",
       "      <td>-79.384568</td>\n",
       "      <td>Toronto</td>\n",
       "      <td>Downtown Toronto</td>\n",
       "      <td>43.653232</td>\n",
       "      <td>-79.385296</td>\n",
       "      <td>Neighborhood</td>\n",
       "      <td>False</td>\n",
       "    </tr>\n",
       "    <tr>\n",
       "      <th>16875</th>\n",
       "      <td>Harbourfront East, Toronto Islands, Union Station</td>\n",
       "      <td>43.640816</td>\n",
       "      <td>-79.381752</td>\n",
       "      <td>Toronto</td>\n",
       "      <td>Harbourfront</td>\n",
       "      <td>43.639526</td>\n",
       "      <td>-79.380688</td>\n",
       "      <td>Neighborhood</td>\n",
       "      <td>False</td>\n",
       "    </tr>\n",
       "  </tbody>\n",
       "</table>\n",
       "</div>"
      ],
      "text/plain": [
       "                                            Neighborhood  \\\n",
       "3334                                            Downtown   \n",
       "3470                                           El Sereno   \n",
       "3977                                      Jefferson Park   \n",
       "6828                                      Brighton Beach   \n",
       "6833                                      Brighton Beach   \n",
       "8004                                     Gerritsen Beach   \n",
       "14318                                      Randall Manor   \n",
       "15378                                            Roxbury   \n",
       "15678                                            Hammels   \n",
       "16019                                        The Beaches   \n",
       "16143                                    Studio District   \n",
       "16788                           Adelaide, King, Richmond   \n",
       "16875  Harbourfront East, Toronto Islands, Union Station   \n",
       "\n",
       "       Neighborhood Latitude  Neighborhood Longitude         City  \\\n",
       "3334               34.040009             -118.248510  Los Angeles   \n",
       "3470               34.082242             -118.176298  Los Angeles   \n",
       "3977               34.028211             -118.322059  Los Angeles   \n",
       "6828               40.576825              -73.965094     New York   \n",
       "6833               40.576825              -73.965094     New York   \n",
       "8004               40.590848              -73.930102     New York   \n",
       "14318              40.635630              -74.098051     New York   \n",
       "15378              40.567376              -73.892138     New York   \n",
       "15678              40.587338              -73.805530     New York   \n",
       "16019              43.676357              -79.293031      Toronto   \n",
       "16143              43.659526              -79.340923      Toronto   \n",
       "16788              43.650571              -79.384568      Toronto   \n",
       "16875              43.640816              -79.381752      Toronto   \n",
       "\n",
       "                             Venue  Venue Latitude  Venue Longitude  \\\n",
       "3334   Los Angeles Flower District       34.039336      -118.249496   \n",
       "3470                     El Sereno       34.085806      -118.177146   \n",
       "3977                Jefferson Park       34.024528      -118.319029   \n",
       "6828                 Little Russia       40.577690       -73.961580   \n",
       "6833                Brighton Beach       40.575518       -73.962372   \n",
       "8004               Gerritsen Beach       40.592377       -73.925009   \n",
       "14318                Randall Manor       40.634504       -74.102555   \n",
       "15378                  Roxbury, NY       40.566788       -73.891715   \n",
       "15678           Rockaway Beach, NY       40.585899       -73.809066   \n",
       "16019                Upper Beaches       43.680563       -79.292869   \n",
       "16143                  Leslieville       43.662070       -79.337856   \n",
       "16788             Downtown Toronto       43.653232       -79.385296   \n",
       "16875                 Harbourfront       43.639526       -79.380688   \n",
       "\n",
       "      Venue Category    Dup  \n",
       "3334    Neighborhood  False  \n",
       "3470    Neighborhood  False  \n",
       "3977    Neighborhood  False  \n",
       "6828    Neighborhood  False  \n",
       "6833    Neighborhood  False  \n",
       "8004    Neighborhood  False  \n",
       "14318   Neighborhood  False  \n",
       "15378   Neighborhood  False  \n",
       "15678   Neighborhood  False  \n",
       "16019   Neighborhood  False  \n",
       "16143   Neighborhood  False  \n",
       "16788   Neighborhood  False  \n",
       "16875   Neighborhood  False  "
      ]
     },
     "execution_count": 10,
     "metadata": {},
     "output_type": "execute_result"
    }
   ],
   "source": [
    "# Show all entries where Venue Category is \"Neighborhood\".\n",
    "all_venues[all_venues['Venue Category'] == 'Neighborhood']"
   ]
  },
  {
   "cell_type": "code",
   "execution_count": 11,
   "metadata": {},
   "outputs": [
    {
     "name": "stdout",
     "output_type": "stream",
     "text": [
      "There are 504 unique venue categories.\n"
     ]
    }
   ],
   "source": [
    "# Filter out entries where Venue Category is \"Neighborhood\".\n",
    "all_venues = all_venues[all_venues['Venue Category'] != 'Neighborhood']\n",
    "\n",
    "# Count the total unique venue categories.\n",
    "print('There are {} unique venue categories.'.format(len(all_venues['Venue Category'].unique())))"
   ]
  },
  {
   "cell_type": "markdown",
   "metadata": {},
   "source": [
    "Next, I will use One Hot encoding to transform the DataFrame into a numerical vector for ML."
   ]
  },
  {
   "cell_type": "code",
   "execution_count": 12,
   "metadata": {},
   "outputs": [
    {
     "data": {
      "text/html": [
       "<div>\n",
       "<style scoped>\n",
       "    .dataframe tbody tr th:only-of-type {\n",
       "        vertical-align: middle;\n",
       "    }\n",
       "\n",
       "    .dataframe tbody tr th {\n",
       "        vertical-align: top;\n",
       "    }\n",
       "\n",
       "    .dataframe thead th {\n",
       "        text-align: right;\n",
       "    }\n",
       "</style>\n",
       "<table border=\"1\" class=\"dataframe\">\n",
       "  <thead>\n",
       "    <tr style=\"text-align: right;\">\n",
       "      <th></th>\n",
       "      <th>Neighborhood</th>\n",
       "      <th>ATM</th>\n",
       "      <th>Accessories Store</th>\n",
       "      <th>Adult Boutique</th>\n",
       "      <th>Afghan Restaurant</th>\n",
       "      <th>African Restaurant</th>\n",
       "      <th>Airport</th>\n",
       "      <th>Airport Food Court</th>\n",
       "      <th>Airport Gate</th>\n",
       "      <th>Airport Lounge</th>\n",
       "      <th>...</th>\n",
       "      <th>Waterfront</th>\n",
       "      <th>Weight Loss Center</th>\n",
       "      <th>Whisky Bar</th>\n",
       "      <th>Wine Bar</th>\n",
       "      <th>Wine Shop</th>\n",
       "      <th>Wings Joint</th>\n",
       "      <th>Women's Store</th>\n",
       "      <th>Yoga Studio</th>\n",
       "      <th>Zoo</th>\n",
       "      <th>Zoo Exhibit</th>\n",
       "    </tr>\n",
       "  </thead>\n",
       "  <tbody>\n",
       "    <tr>\n",
       "      <th>0</th>\n",
       "      <td>Grand Boulevard</td>\n",
       "      <td>0</td>\n",
       "      <td>0</td>\n",
       "      <td>0</td>\n",
       "      <td>0</td>\n",
       "      <td>0</td>\n",
       "      <td>0</td>\n",
       "      <td>0</td>\n",
       "      <td>0</td>\n",
       "      <td>0</td>\n",
       "      <td>...</td>\n",
       "      <td>0</td>\n",
       "      <td>0</td>\n",
       "      <td>0</td>\n",
       "      <td>0</td>\n",
       "      <td>0</td>\n",
       "      <td>0</td>\n",
       "      <td>0</td>\n",
       "      <td>0</td>\n",
       "      <td>0</td>\n",
       "      <td>0</td>\n",
       "    </tr>\n",
       "    <tr>\n",
       "      <th>1</th>\n",
       "      <td>Grand Boulevard</td>\n",
       "      <td>0</td>\n",
       "      <td>0</td>\n",
       "      <td>0</td>\n",
       "      <td>0</td>\n",
       "      <td>0</td>\n",
       "      <td>0</td>\n",
       "      <td>0</td>\n",
       "      <td>0</td>\n",
       "      <td>0</td>\n",
       "      <td>...</td>\n",
       "      <td>0</td>\n",
       "      <td>0</td>\n",
       "      <td>0</td>\n",
       "      <td>0</td>\n",
       "      <td>0</td>\n",
       "      <td>0</td>\n",
       "      <td>0</td>\n",
       "      <td>0</td>\n",
       "      <td>0</td>\n",
       "      <td>0</td>\n",
       "    </tr>\n",
       "    <tr>\n",
       "      <th>2</th>\n",
       "      <td>Grand Boulevard</td>\n",
       "      <td>0</td>\n",
       "      <td>0</td>\n",
       "      <td>0</td>\n",
       "      <td>0</td>\n",
       "      <td>0</td>\n",
       "      <td>0</td>\n",
       "      <td>0</td>\n",
       "      <td>0</td>\n",
       "      <td>0</td>\n",
       "      <td>...</td>\n",
       "      <td>0</td>\n",
       "      <td>0</td>\n",
       "      <td>0</td>\n",
       "      <td>0</td>\n",
       "      <td>0</td>\n",
       "      <td>0</td>\n",
       "      <td>0</td>\n",
       "      <td>0</td>\n",
       "      <td>0</td>\n",
       "      <td>0</td>\n",
       "    </tr>\n",
       "    <tr>\n",
       "      <th>3</th>\n",
       "      <td>Grand Boulevard</td>\n",
       "      <td>0</td>\n",
       "      <td>0</td>\n",
       "      <td>0</td>\n",
       "      <td>0</td>\n",
       "      <td>0</td>\n",
       "      <td>0</td>\n",
       "      <td>0</td>\n",
       "      <td>0</td>\n",
       "      <td>0</td>\n",
       "      <td>...</td>\n",
       "      <td>0</td>\n",
       "      <td>0</td>\n",
       "      <td>0</td>\n",
       "      <td>0</td>\n",
       "      <td>0</td>\n",
       "      <td>0</td>\n",
       "      <td>0</td>\n",
       "      <td>0</td>\n",
       "      <td>0</td>\n",
       "      <td>0</td>\n",
       "    </tr>\n",
       "    <tr>\n",
       "      <th>4</th>\n",
       "      <td>Grand Boulevard</td>\n",
       "      <td>0</td>\n",
       "      <td>0</td>\n",
       "      <td>0</td>\n",
       "      <td>0</td>\n",
       "      <td>0</td>\n",
       "      <td>0</td>\n",
       "      <td>0</td>\n",
       "      <td>0</td>\n",
       "      <td>0</td>\n",
       "      <td>...</td>\n",
       "      <td>0</td>\n",
       "      <td>0</td>\n",
       "      <td>0</td>\n",
       "      <td>0</td>\n",
       "      <td>0</td>\n",
       "      <td>0</td>\n",
       "      <td>0</td>\n",
       "      <td>0</td>\n",
       "      <td>0</td>\n",
       "      <td>0</td>\n",
       "    </tr>\n",
       "  </tbody>\n",
       "</table>\n",
       "<p>5 rows × 505 columns</p>\n",
       "</div>"
      ],
      "text/plain": [
       "      Neighborhood  ATM  Accessories Store  Adult Boutique  Afghan Restaurant  \\\n",
       "0  Grand Boulevard    0                  0               0                  0   \n",
       "1  Grand Boulevard    0                  0               0                  0   \n",
       "2  Grand Boulevard    0                  0               0                  0   \n",
       "3  Grand Boulevard    0                  0               0                  0   \n",
       "4  Grand Boulevard    0                  0               0                  0   \n",
       "\n",
       "   African Restaurant  Airport  Airport Food Court  Airport Gate  \\\n",
       "0                   0        0                   0             0   \n",
       "1                   0        0                   0             0   \n",
       "2                   0        0                   0             0   \n",
       "3                   0        0                   0             0   \n",
       "4                   0        0                   0             0   \n",
       "\n",
       "   Airport Lounge  ...  Waterfront  Weight Loss Center  Whisky Bar  Wine Bar  \\\n",
       "0               0  ...           0                   0           0         0   \n",
       "1               0  ...           0                   0           0         0   \n",
       "2               0  ...           0                   0           0         0   \n",
       "3               0  ...           0                   0           0         0   \n",
       "4               0  ...           0                   0           0         0   \n",
       "\n",
       "   Wine Shop  Wings Joint  Women's Store  Yoga Studio  Zoo  Zoo Exhibit  \n",
       "0          0            0              0            0    0            0  \n",
       "1          0            0              0            0    0            0  \n",
       "2          0            0              0            0    0            0  \n",
       "3          0            0              0            0    0            0  \n",
       "4          0            0              0            0    0            0  \n",
       "\n",
       "[5 rows x 505 columns]"
      ]
     },
     "execution_count": 12,
     "metadata": {},
     "output_type": "execute_result"
    }
   ],
   "source": [
    "# Create table of venues per neighborhood.\n",
    "all_venues = all_venues[all_venues['Venue Category'] != 'Neighborhood']\n",
    "\n",
    "# one hot encoding\n",
    "all_onehot = pd.get_dummies(all_venues[['Venue Category']], prefix=\"\", prefix_sep=\"\")\n",
    "\n",
    "# add neighborhood column back to dataframe\n",
    "all_onehot['Neighborhood'] = all_venues['Neighborhood'] \n",
    "\n",
    "# move neighborhood column to the first column\n",
    "fixed_columns = [all_onehot.columns[-1]] + list(all_onehot.columns[:-1])\n",
    "all_onehot = all_onehot[fixed_columns]\n",
    "\n",
    "all_onehot.head()"
   ]
  },
  {
   "cell_type": "code",
   "execution_count": 13,
   "metadata": {},
   "outputs": [
    {
     "data": {
      "text/plain": [
       "(16615, 505)"
      ]
     },
     "execution_count": 13,
     "metadata": {},
     "output_type": "execute_result"
    }
   ],
   "source": [
    "# Check dimensions of One Hot encoded DataFrame.\n",
    "all_onehot.shape"
   ]
  },
  {
   "cell_type": "markdown",
   "metadata": {},
   "source": [
    "Next, I will group the numerical data by neighborhoods and return mean proportions for each venue category."
   ]
  },
  {
   "cell_type": "code",
   "execution_count": 14,
   "metadata": {},
   "outputs": [
    {
     "data": {
      "text/html": [
       "<div>\n",
       "<style scoped>\n",
       "    .dataframe tbody tr th:only-of-type {\n",
       "        vertical-align: middle;\n",
       "    }\n",
       "\n",
       "    .dataframe tbody tr th {\n",
       "        vertical-align: top;\n",
       "    }\n",
       "\n",
       "    .dataframe thead th {\n",
       "        text-align: right;\n",
       "    }\n",
       "</style>\n",
       "<table border=\"1\" class=\"dataframe\">\n",
       "  <thead>\n",
       "    <tr style=\"text-align: right;\">\n",
       "      <th></th>\n",
       "      <th>Neighborhood</th>\n",
       "      <th>ATM</th>\n",
       "      <th>Accessories Store</th>\n",
       "      <th>Adult Boutique</th>\n",
       "      <th>Afghan Restaurant</th>\n",
       "      <th>African Restaurant</th>\n",
       "      <th>Airport</th>\n",
       "      <th>Airport Food Court</th>\n",
       "      <th>Airport Gate</th>\n",
       "      <th>Airport Lounge</th>\n",
       "      <th>...</th>\n",
       "      <th>Waterfront</th>\n",
       "      <th>Weight Loss Center</th>\n",
       "      <th>Whisky Bar</th>\n",
       "      <th>Wine Bar</th>\n",
       "      <th>Wine Shop</th>\n",
       "      <th>Wings Joint</th>\n",
       "      <th>Women's Store</th>\n",
       "      <th>Yoga Studio</th>\n",
       "      <th>Zoo</th>\n",
       "      <th>Zoo Exhibit</th>\n",
       "    </tr>\n",
       "  </thead>\n",
       "  <tbody>\n",
       "    <tr>\n",
       "      <th>0</th>\n",
       "      <td>Acton</td>\n",
       "      <td>0.0</td>\n",
       "      <td>0.0</td>\n",
       "      <td>0.0</td>\n",
       "      <td>0.0</td>\n",
       "      <td>0.0</td>\n",
       "      <td>0.0</td>\n",
       "      <td>0.0</td>\n",
       "      <td>0.0</td>\n",
       "      <td>0.0</td>\n",
       "      <td>...</td>\n",
       "      <td>0.0</td>\n",
       "      <td>0.0</td>\n",
       "      <td>0.0</td>\n",
       "      <td>0.0</td>\n",
       "      <td>0.0</td>\n",
       "      <td>0.0</td>\n",
       "      <td>0.000000</td>\n",
       "      <td>0.0</td>\n",
       "      <td>0.0</td>\n",
       "      <td>0.0</td>\n",
       "    </tr>\n",
       "    <tr>\n",
       "      <th>1</th>\n",
       "      <td>Adams-Normandie</td>\n",
       "      <td>0.0</td>\n",
       "      <td>0.0</td>\n",
       "      <td>0.0</td>\n",
       "      <td>0.0</td>\n",
       "      <td>0.0</td>\n",
       "      <td>0.0</td>\n",
       "      <td>0.0</td>\n",
       "      <td>0.0</td>\n",
       "      <td>0.0</td>\n",
       "      <td>...</td>\n",
       "      <td>0.0</td>\n",
       "      <td>0.0</td>\n",
       "      <td>0.0</td>\n",
       "      <td>0.0</td>\n",
       "      <td>0.0</td>\n",
       "      <td>0.0</td>\n",
       "      <td>0.000000</td>\n",
       "      <td>0.0</td>\n",
       "      <td>0.0</td>\n",
       "      <td>0.0</td>\n",
       "    </tr>\n",
       "    <tr>\n",
       "      <th>2</th>\n",
       "      <td>Adelaide, King, Richmond</td>\n",
       "      <td>0.0</td>\n",
       "      <td>0.0</td>\n",
       "      <td>0.0</td>\n",
       "      <td>0.0</td>\n",
       "      <td>0.0</td>\n",
       "      <td>0.0</td>\n",
       "      <td>0.0</td>\n",
       "      <td>0.0</td>\n",
       "      <td>0.0</td>\n",
       "      <td>...</td>\n",
       "      <td>0.0</td>\n",
       "      <td>0.0</td>\n",
       "      <td>0.0</td>\n",
       "      <td>0.0</td>\n",
       "      <td>0.0</td>\n",
       "      <td>0.0</td>\n",
       "      <td>0.012821</td>\n",
       "      <td>0.0</td>\n",
       "      <td>0.0</td>\n",
       "      <td>0.0</td>\n",
       "    </tr>\n",
       "    <tr>\n",
       "      <th>3</th>\n",
       "      <td>Agincourt</td>\n",
       "      <td>0.0</td>\n",
       "      <td>0.0</td>\n",
       "      <td>0.0</td>\n",
       "      <td>0.0</td>\n",
       "      <td>0.0</td>\n",
       "      <td>0.0</td>\n",
       "      <td>0.0</td>\n",
       "      <td>0.0</td>\n",
       "      <td>0.0</td>\n",
       "      <td>...</td>\n",
       "      <td>0.0</td>\n",
       "      <td>0.0</td>\n",
       "      <td>0.0</td>\n",
       "      <td>0.0</td>\n",
       "      <td>0.0</td>\n",
       "      <td>0.0</td>\n",
       "      <td>0.000000</td>\n",
       "      <td>0.0</td>\n",
       "      <td>0.0</td>\n",
       "      <td>0.0</td>\n",
       "    </tr>\n",
       "    <tr>\n",
       "      <th>4</th>\n",
       "      <td>Agincourt North, L'Amoreaux East, Milliken, St...</td>\n",
       "      <td>0.0</td>\n",
       "      <td>0.0</td>\n",
       "      <td>0.0</td>\n",
       "      <td>0.0</td>\n",
       "      <td>0.0</td>\n",
       "      <td>0.0</td>\n",
       "      <td>0.0</td>\n",
       "      <td>0.0</td>\n",
       "      <td>0.0</td>\n",
       "      <td>...</td>\n",
       "      <td>0.0</td>\n",
       "      <td>0.0</td>\n",
       "      <td>0.0</td>\n",
       "      <td>0.0</td>\n",
       "      <td>0.0</td>\n",
       "      <td>0.0</td>\n",
       "      <td>0.000000</td>\n",
       "      <td>0.0</td>\n",
       "      <td>0.0</td>\n",
       "      <td>0.0</td>\n",
       "    </tr>\n",
       "  </tbody>\n",
       "</table>\n",
       "<p>5 rows × 505 columns</p>\n",
       "</div>"
      ],
      "text/plain": [
       "                                        Neighborhood  ATM  Accessories Store  \\\n",
       "0                                              Acton  0.0                0.0   \n",
       "1                                    Adams-Normandie  0.0                0.0   \n",
       "2                           Adelaide, King, Richmond  0.0                0.0   \n",
       "3                                          Agincourt  0.0                0.0   \n",
       "4  Agincourt North, L'Amoreaux East, Milliken, St...  0.0                0.0   \n",
       "\n",
       "   Adult Boutique  Afghan Restaurant  African Restaurant  Airport  \\\n",
       "0             0.0                0.0                 0.0      0.0   \n",
       "1             0.0                0.0                 0.0      0.0   \n",
       "2             0.0                0.0                 0.0      0.0   \n",
       "3             0.0                0.0                 0.0      0.0   \n",
       "4             0.0                0.0                 0.0      0.0   \n",
       "\n",
       "   Airport Food Court  Airport Gate  Airport Lounge  ...  Waterfront  \\\n",
       "0                 0.0           0.0             0.0  ...         0.0   \n",
       "1                 0.0           0.0             0.0  ...         0.0   \n",
       "2                 0.0           0.0             0.0  ...         0.0   \n",
       "3                 0.0           0.0             0.0  ...         0.0   \n",
       "4                 0.0           0.0             0.0  ...         0.0   \n",
       "\n",
       "   Weight Loss Center  Whisky Bar  Wine Bar  Wine Shop  Wings Joint  \\\n",
       "0                 0.0         0.0       0.0        0.0          0.0   \n",
       "1                 0.0         0.0       0.0        0.0          0.0   \n",
       "2                 0.0         0.0       0.0        0.0          0.0   \n",
       "3                 0.0         0.0       0.0        0.0          0.0   \n",
       "4                 0.0         0.0       0.0        0.0          0.0   \n",
       "\n",
       "   Women's Store  Yoga Studio  Zoo  Zoo Exhibit  \n",
       "0       0.000000          0.0  0.0          0.0  \n",
       "1       0.000000          0.0  0.0          0.0  \n",
       "2       0.012821          0.0  0.0          0.0  \n",
       "3       0.000000          0.0  0.0          0.0  \n",
       "4       0.000000          0.0  0.0          0.0  \n",
       "\n",
       "[5 rows x 505 columns]"
      ]
     },
     "execution_count": 14,
     "metadata": {},
     "output_type": "execute_result"
    }
   ],
   "source": [
    "# Group \"all_onehot\" by neighborhoods and aggregate all venue categories by mean.\n",
    "all_grouped = all_onehot.groupby('Neighborhood').mean().reset_index()\n",
    "all_grouped.head()"
   ]
  },
  {
   "cell_type": "code",
   "execution_count": 15,
   "metadata": {},
   "outputs": [
    {
     "data": {
      "text/plain": [
       "(714, 505)"
      ]
     },
     "execution_count": 15,
     "metadata": {},
     "output_type": "execute_result"
    }
   ],
   "source": [
    "# Check dimensions of \"all_grouped\" DataFrame.\n",
    "all_grouped.shape"
   ]
  },
  {
   "cell_type": "markdown",
   "metadata": {},
   "source": [
    "### EDA"
   ]
  },
  {
   "cell_type": "markdown",
   "metadata": {},
   "source": [
    "Let's see some of the most common venue categories amongst all four cities."
   ]
  },
  {
   "cell_type": "code",
   "execution_count": 16,
   "metadata": {},
   "outputs": [
    {
     "data": {
      "image/png": "[encoded data removed]",
      "text/plain": [
       "<Figure size 576x288 with 1 Axes>"
      ]
     },
     "metadata": {
      "needs_background": "light"
     },
     "output_type": "display_data"
    }
   ],
   "source": [
    "# Get top 10 most common venue types.\n",
    "all_top10venues = all_venues['Venue Category'].value_counts().head(10)\n",
    "x_max = all_top10venues.max()+50\n",
    "\n",
    "# Plot top 10 most common venue types.\n",
    "labels = all_top10venues.index\n",
    "ax = all_top10venues.sort_values().plot.barh(figsize=(8,4))\n",
    "# Mark each bar with the value.\n",
    "for rect in ax.patches:\n",
    "    y_value = rect.get_y() + rect.get_height() / 2\n",
    "    x_value = rect.get_width()\n",
    "    ax.annotate(x_value, (x_value, y_value), va='center',textcoords=\"offset points\", xytext=(2,0), fontsize=12)  \n",
    "# Set plot parameters and labels.\n",
    "ax.set_xlim(0,x_max)\n",
    "plt.title('Top 10 Venue Categories', fontsize=16)\n",
    "plt.xlabel('Amount of Venues', fontsize=12)\n",
    "plt.xticks(fontsize=14)\n",
    "plt.yticks(fontsize=14)\n",
    "plt.show()"
   ]
  },
  {
   "cell_type": "markdown",
   "metadata": {},
   "source": [
    "Lots of Pizza Places, which is likely attributable to New York and Chicago as both cities claim fame for their pizza.  Coffee Shops are also understandably common.  Italian, Mexican and Chinese are common non-continental cuisines and bakeries and bars are common as well."
   ]
  },
  {
   "cell_type": "markdown",
   "metadata": {},
   "source": [
    "Let's see if there is any correlation between these top 10 most common venue categories."
   ]
  },
  {
   "cell_type": "code",
   "execution_count": 17,
   "metadata": {},
   "outputs": [
    {
     "data": {
      "image/png": "[encoded data removed]",
      "text/plain": [
       "<Figure size 936x720 with 2 Axes>"
      ]
     },
     "metadata": {
      "needs_background": "light"
     },
     "output_type": "display_data"
    }
   ],
   "source": [
    "# Create DataFrame / correlation table for the top 10 venues.\n",
    "all_grouped_corr = round(all_grouped.corr()[labels].loc[labels],3)\n",
    "\n",
    "# Plot the correlation DataFrame as a Seaborn heatmap.\n",
    "plt.figure(figsize=(13,10))\n",
    "sns.heatmap(all_grouped_corr, annot=True)\n",
    "plt.yticks(va='center', rotation=0,fontsize=12)\n",
    "plt.xticks(ha='right', rotation=40,fontsize=12)\n",
    "plt.title('Top 10 Venues Correlation to Each Other', fontsize=16)\n",
    "plt.show()"
   ]
  },
  {
   "cell_type": "markdown",
   "metadata": {},
   "source": [
    "There does not seem to be much correlation at all amongst the top 10 venue categories.  What two variables have the highest?"
   ]
  },
  {
   "cell_type": "code",
   "execution_count": 19,
   "metadata": {},
   "outputs": [
    {
     "name": "stdout",
     "output_type": "stream",
     "text": [
      "Pizza Place and Park have the greatest correlation at -0.157.\n"
     ]
    }
   ],
   "source": [
    "# Determine which of the venues above have the greatest correlation to each other.\n",
    "# Run through the venues and gather the minimum and maximum values.\n",
    "max_corr = 0\n",
    "\n",
    "for col in all_grouped_corr.columns.values:\n",
    "    max_ = all_grouped_corr[col].drop(col).max()\n",
    "    min_ = all_grouped_corr[col].drop(col).min()\n",
    "    # If the absolute value of the minimum is greater than the maximum, that is the greater correlation.\n",
    "    if abs(min_) > max_:\n",
    "        X = min_\n",
    "    else:\n",
    "        X = max_\n",
    "    # Store the greatest correlation, it's respective venue and store as a DataFrame.\n",
    "    if abs(X) > abs(max_corr):\n",
    "        max_corr = X\n",
    "        max_col = col\n",
    "        df = all_grouped_corr[all_grouped_corr[max_col] == max_corr][col]\n",
    "        \n",
    "print(max_col + ' and ' + str(df.index.values[0]) + ' have the greatest correlation at ' + str(max_corr) + '.')"
   ]
  },
  {
   "cell_type": "markdown",
   "metadata": {},
   "source": [
    "Of the top 10 venue categories, Pizza Place and Park have the greatest (although negative) correlation at -0.157."
   ]
  },
  {
   "cell_type": "markdown",
   "metadata": {},
   "source": [
    "What venues categories do these top 10 have the greatest correlation with?"
   ]
  },
  {
   "cell_type": "code",
   "execution_count": 20,
   "metadata": {},
   "outputs": [
    {
     "data": {
      "text/html": [
       "<div>\n",
       "<style scoped>\n",
       "    .dataframe tbody tr th:only-of-type {\n",
       "        vertical-align: middle;\n",
       "    }\n",
       "\n",
       "    .dataframe tbody tr th {\n",
       "        vertical-align: top;\n",
       "    }\n",
       "\n",
       "    .dataframe thead th {\n",
       "        text-align: right;\n",
       "    }\n",
       "</style>\n",
       "<table border=\"1\" class=\"dataframe\">\n",
       "  <thead>\n",
       "    <tr style=\"text-align: right;\">\n",
       "      <th></th>\n",
       "      <th>Dependant</th>\n",
       "      <th>Correlation</th>\n",
       "    </tr>\n",
       "  </thead>\n",
       "  <tbody>\n",
       "    <tr>\n",
       "      <th>Sandwich Place</th>\n",
       "      <td>ATM</td>\n",
       "      <td>0.398361</td>\n",
       "    </tr>\n",
       "    <tr>\n",
       "      <th>Chinese Restaurant</th>\n",
       "      <td>Dim Sum Restaurant</td>\n",
       "      <td>0.317655</td>\n",
       "    </tr>\n",
       "    <tr>\n",
       "      <th>Bar</th>\n",
       "      <td>Drugstore</td>\n",
       "      <td>0.315890</td>\n",
       "    </tr>\n",
       "    <tr>\n",
       "      <th>Café</th>\n",
       "      <td>College Stadium</td>\n",
       "      <td>0.266386</td>\n",
       "    </tr>\n",
       "    <tr>\n",
       "      <th>Coffee Shop</th>\n",
       "      <td>College Auditorium</td>\n",
       "      <td>0.253476</td>\n",
       "    </tr>\n",
       "    <tr>\n",
       "      <th>Italian Restaurant</th>\n",
       "      <td>Spa</td>\n",
       "      <td>0.225283</td>\n",
       "    </tr>\n",
       "    <tr>\n",
       "      <th>Pizza Place</th>\n",
       "      <td>Empanada Restaurant</td>\n",
       "      <td>0.200907</td>\n",
       "    </tr>\n",
       "    <tr>\n",
       "      <th>Mexican Restaurant</th>\n",
       "      <td>Strip Club</td>\n",
       "      <td>0.170390</td>\n",
       "    </tr>\n",
       "    <tr>\n",
       "      <th>Bakery</th>\n",
       "      <td>Dance Studio</td>\n",
       "      <td>0.135972</td>\n",
       "    </tr>\n",
       "    <tr>\n",
       "      <th>Park</th>\n",
       "      <td>Pizza Place</td>\n",
       "      <td>-0.156821</td>\n",
       "    </tr>\n",
       "  </tbody>\n",
       "</table>\n",
       "</div>"
      ],
      "text/plain": [
       "                              Dependant  Correlation\n",
       "Sandwich Place                      ATM     0.398361\n",
       "Chinese Restaurant   Dim Sum Restaurant     0.317655\n",
       "Bar                           Drugstore     0.315890\n",
       "Café                    College Stadium     0.266386\n",
       "Coffee Shop          College Auditorium     0.253476\n",
       "Italian Restaurant                  Spa     0.225283\n",
       "Pizza Place         Empanada Restaurant     0.200907\n",
       "Mexican Restaurant           Strip Club     0.170390\n",
       "Bakery                     Dance Studio     0.135972\n",
       "Park                        Pizza Place    -0.156821"
      ]
     },
     "execution_count": 20,
     "metadata": {},
     "output_type": "execute_result"
    }
   ],
   "source": [
    "# Determine the venues categories to which the top 10 venues above have the greatest correlation.\n",
    "# Run through the venues and gather the minimum and maximum values.\n",
    "max_corrs = []\n",
    "\n",
    "for ind in labels:\n",
    "    X = 0\n",
    "    max_ = all_grouped.corr()[labels][ind].drop(ind).max()\n",
    "    min_ = all_grouped.corr()[labels][ind].drop(ind).min()\n",
    "    # If the absolute value of the minimum is greater than the maximum, that is the greater correlation.\n",
    "    if abs(min_) > max_:\n",
    "        X = min_\n",
    "    else:\n",
    "        X = max_\n",
    "    # Store the greatest correlation in a list.\n",
    "    max_corrs.append(X)\n",
    "    \n",
    "# Gather the venues with the greatest correlation to the top 10 venues.\n",
    "features = [abs(all_grouped.corr()[labels][ind].drop(ind)).sort_values(ascending=False).index[0] for ind in labels]\n",
    "\n",
    "# Create DataFrame.\n",
    "pd.DataFrame(index=labels, data={'Dependant':features, 'Correlation':max_corrs}).sort_values('Correlation', ascending=False)"
   ]
  },
  {
   "cell_type": "markdown",
   "metadata": {},
   "source": [
    "The greatest correlation is between Sandwich Places and ATM's, which is a good location.  Chinese correlated to Dim Sum (a style of Chineses cuisine) Restaurants also makes sense as does Cafés and Coffee Shops correlated to college facilities.  We have already noted the negative correlation between Parks and Pizza Places.  It is interesting that Mexican Restaurants' greatest correlation is to Strip Clubs.  "
   ]
  },
  {
   "cell_type": "markdown",
   "metadata": {},
   "source": [
    "How many unique venue categories are in each city?"
   ]
  },
  {
   "cell_type": "code",
   "execution_count": 21,
   "metadata": {},
   "outputs": [
    {
     "name": "stdout",
     "output_type": "stream",
     "text": [
      "There are 302 unique venue categories in Chicago.\n",
      "There are 320 unique venue categories in Los Angeles.\n",
      "There are 428 unique venue categories in New York.\n",
      "There are 265 unique venue categories in Toronto.\n"
     ]
    }
   ],
   "source": [
    "# Count and print number of unique venue categories per city.\n",
    "for city in all_venues['City'].unique():\n",
    "    print('There are {} unique venue categories in {}.'.format(len(all_venues[all_venues['City'] == city]['Venue Category'].unique()),city))"
   ]
  },
  {
   "cell_type": "markdown",
   "metadata": {},
   "source": [
    "New York has nearly 100 more venue categories than the next city, Los Angeles."
   ]
  },
  {
   "cell_type": "code",
   "execution_count": 22,
   "metadata": {
    "scrolled": false
   },
   "outputs": [
    {
     "data": {
      "image/png": "[encoded data removed]",
      "text/plain": [
       "<Figure size 1008x576 with 4 Axes>"
      ]
     },
     "metadata": {
      "needs_background": "light"
     },
     "output_type": "display_data"
    }
   ],
   "source": [
    "# Plot the top 10 venue categories per city by the their percentage of all venues.\n",
    "fig = plt.figure(figsize=(14,8))\n",
    "for i, city in enumerate(all_venues['City'].unique()):\n",
    "    # Create a table for the venue counts.\n",
    "    neigh_counts = all_venues[all_venues['City'] == city]['Venue Category'].value_counts()\n",
    "    # Convert the table to percentages.\n",
    "    top10venues = (neigh_counts.head(10)/neigh_counts.sum()*100).round(2)\n",
    "    # Break cities into subplots.\n",
    "    ax = fig.add_subplot(2, 2, i+1)\n",
    "    ax.barh(top10venues.sort_values().index.values,top10venues.sort_values().values)\n",
    "    # Mark each bar with the value.\n",
    "    for rect in ax.patches:\n",
    "        y_value = rect.get_y() + rect.get_height() / 2\n",
    "        x_value = rect.get_width()\n",
    "        ax.annotate(x_value, (x_value, y_value), va='center',textcoords=\"offset points\", xytext=(2,0), fontsize=12)\n",
    "    # Set plot parameters and labels.\n",
    "    ax.set_xlim(0,10)\n",
    "    plt.title('Top 10 {} Venue Categories (%)'.format(city), fontsize=15)\n",
    "    plt.xlabel('Percentage of Venues in City', fontsize=12)\n",
    "    plt.xticks(fontsize=13)\n",
    "    plt.yticks(fontsize=13, va='center')\n",
    "fig.tight_layout()\n",
    "plt.show()"
   ]
  },
  {
   "cell_type": "markdown",
   "metadata": {},
   "source": [
    "The highest percentages in Chicago are Coffee Shops, Parks and Pizza Places.  Coffee Shops and Parks are common most places, and Chicago does like its pizza. <br>\n",
    "Los Angeles' most common venue is Mexican Restaurants, which makes sense given the proximity to the US / Mexico border and the heavy cultural influence. <br>\n",
    "New York's most common venue is Pizza Places, which is not surprising as New Yorkers love their pizza.  Italian Restaurants and Delis are also very \"New York\" places. <br>\n",
    "Coffee Shops account for a very high percentage of Toronto venues, nearly double that of the next category.  Some Italian, but not much ethnic influence outside of that."
   ]
  },
  {
   "cell_type": "markdown",
   "metadata": {},
   "source": [
    "Let's see which neighborhoods account for the greatest percentages of venues."
   ]
  },
  {
   "cell_type": "code",
   "execution_count": 262,
   "metadata": {
    "scrolled": false
   },
   "outputs": [
    {
     "data": {
      "image/png": "[encoded data removed]",
      "text/plain": [
       "<Figure size 1224x648 with 4 Axes>"
      ]
     },
     "metadata": {
      "needs_background": "light"
     },
     "output_type": "display_data"
    }
   ],
   "source": [
    "# Plot the top 10 neighborhoods per city by the their percentage of all venues. \n",
    "fig = plt.figure(figsize=(17,9))\n",
    "for i, city in enumerate(all_venues['City'].unique()):\n",
    "    # Create a table for the neighborhood counts.\n",
    "    neigh_counts = all_venues[all_venues['City'] == city]['Neighborhood'].value_counts()\n",
    "    # Convert the table to percentages.\n",
    "    top10venues = (neigh_counts.head(10)/neigh_counts.sum()*100).round(2)\n",
    "    # Break cities into subplots.\n",
    "    ax = fig.add_subplot(2, 2, i+1)\n",
    "    ax.barh(top10venues.sort_values().index.values,top10venues.sort_values().values)\n",
    "    # Mark each bar with the value.\n",
    "    for rect in ax.patches:\n",
    "        y_value = rect.get_y() + rect.get_height() / 2\n",
    "        x_value = rect.get_width()\n",
    "        ax.annotate(x_value, (x_value, y_value), va='center',textcoords=\"offset points\", xytext=(2,0), fontsize=12)  \n",
    "    # Set plot parameters and labels.\n",
    "    ax.set_xlim(0,7)\n",
    "    plt.title('Top 10 {} Neighborhood Venue Totals (%)'.format(city), fontsize=15)\n",
    "    plt.xlabel('Percentage of Venues in City', fontsize=13)\n",
    "    plt.xticks(fontsize=14)\n",
    "    plt.yticks(fontsize=14, va='center')\n",
    "fig.tight_layout()\n",
    "plt.show()"
   ]
  },
  {
   "cell_type": "markdown",
   "metadata": {},
   "source": [
    "New York has a fairly minimal decline within their top neighborhoods and it plateaus quickly.  By contrast, Toronto has the most notable decline.  Also, Toronto neighborhoods are far less numerous than New York (103 / 306, respectively) and thus occupy a far greater percetnage of the total venues.  In this way, Toronto is fairly similar to Chicago."
   ]
  },
  {
   "cell_type": "markdown",
   "metadata": {},
   "source": [
    "### Clustering"
   ]
  },
  {
   "cell_type": "markdown",
   "metadata": {},
   "source": [
    "Now we'll explore clustering with the city data to determine which US city Toronto is most like."
   ]
  },
  {
   "cell_type": "markdown",
   "metadata": {},
   "source": [
    "First, we'll update the \"all_grouped\" DataFrame."
   ]
  },
  {
   "cell_type": "code",
   "execution_count": 28,
   "metadata": {},
   "outputs": [
    {
     "data": {
      "text/html": [
       "<div>\n",
       "<style scoped>\n",
       "    .dataframe tbody tr th:only-of-type {\n",
       "        vertical-align: middle;\n",
       "    }\n",
       "\n",
       "    .dataframe tbody tr th {\n",
       "        vertical-align: top;\n",
       "    }\n",
       "\n",
       "    .dataframe thead th {\n",
       "        text-align: right;\n",
       "    }\n",
       "</style>\n",
       "<table border=\"1\" class=\"dataframe\">\n",
       "  <thead>\n",
       "    <tr style=\"text-align: right;\">\n",
       "      <th></th>\n",
       "      <th>Neighborhood</th>\n",
       "      <th>City</th>\n",
       "      <th>ATM</th>\n",
       "      <th>Accessories Store</th>\n",
       "      <th>Adult Boutique</th>\n",
       "      <th>Afghan Restaurant</th>\n",
       "      <th>African Restaurant</th>\n",
       "      <th>Airport</th>\n",
       "      <th>Airport Food Court</th>\n",
       "      <th>Airport Gate</th>\n",
       "      <th>...</th>\n",
       "      <th>Waterfront</th>\n",
       "      <th>Weight Loss Center</th>\n",
       "      <th>Whisky Bar</th>\n",
       "      <th>Wine Bar</th>\n",
       "      <th>Wine Shop</th>\n",
       "      <th>Wings Joint</th>\n",
       "      <th>Women's Store</th>\n",
       "      <th>Yoga Studio</th>\n",
       "      <th>Zoo</th>\n",
       "      <th>Zoo Exhibit</th>\n",
       "    </tr>\n",
       "  </thead>\n",
       "  <tbody>\n",
       "    <tr>\n",
       "      <th>0</th>\n",
       "      <td>Grand Boulevard</td>\n",
       "      <td>Chicago</td>\n",
       "      <td>0.0</td>\n",
       "      <td>0.0</td>\n",
       "      <td>0.0</td>\n",
       "      <td>0.0</td>\n",
       "      <td>0.0</td>\n",
       "      <td>0.0</td>\n",
       "      <td>0.0</td>\n",
       "      <td>0.0</td>\n",
       "      <td>...</td>\n",
       "      <td>0.0</td>\n",
       "      <td>0.000000</td>\n",
       "      <td>0.0</td>\n",
       "      <td>0.0</td>\n",
       "      <td>0.0</td>\n",
       "      <td>0.0</td>\n",
       "      <td>0.0</td>\n",
       "      <td>0.000000</td>\n",
       "      <td>0.0</td>\n",
       "      <td>0.0</td>\n",
       "    </tr>\n",
       "    <tr>\n",
       "      <th>11</th>\n",
       "      <td>Printers Row</td>\n",
       "      <td>Chicago</td>\n",
       "      <td>0.0</td>\n",
       "      <td>0.0</td>\n",
       "      <td>0.0</td>\n",
       "      <td>0.0</td>\n",
       "      <td>0.0</td>\n",
       "      <td>0.0</td>\n",
       "      <td>0.0</td>\n",
       "      <td>0.0</td>\n",
       "      <td>...</td>\n",
       "      <td>0.0</td>\n",
       "      <td>0.000000</td>\n",
       "      <td>0.0</td>\n",
       "      <td>0.0</td>\n",
       "      <td>0.0</td>\n",
       "      <td>0.0</td>\n",
       "      <td>0.0</td>\n",
       "      <td>0.010000</td>\n",
       "      <td>0.0</td>\n",
       "      <td>0.0</td>\n",
       "    </tr>\n",
       "    <tr>\n",
       "      <th>111</th>\n",
       "      <td>United Center</td>\n",
       "      <td>Chicago</td>\n",
       "      <td>0.0</td>\n",
       "      <td>0.0</td>\n",
       "      <td>0.0</td>\n",
       "      <td>0.0</td>\n",
       "      <td>0.0</td>\n",
       "      <td>0.0</td>\n",
       "      <td>0.0</td>\n",
       "      <td>0.0</td>\n",
       "      <td>...</td>\n",
       "      <td>0.0</td>\n",
       "      <td>0.000000</td>\n",
       "      <td>0.0</td>\n",
       "      <td>0.0</td>\n",
       "      <td>0.0</td>\n",
       "      <td>0.0</td>\n",
       "      <td>0.0</td>\n",
       "      <td>0.000000</td>\n",
       "      <td>0.0</td>\n",
       "      <td>0.0</td>\n",
       "    </tr>\n",
       "    <tr>\n",
       "      <th>147</th>\n",
       "      <td>Sheffield &amp; DePaul</td>\n",
       "      <td>Chicago</td>\n",
       "      <td>0.0</td>\n",
       "      <td>0.0</td>\n",
       "      <td>0.0</td>\n",
       "      <td>0.0</td>\n",
       "      <td>0.0</td>\n",
       "      <td>0.0</td>\n",
       "      <td>0.0</td>\n",
       "      <td>0.0</td>\n",
       "      <td>...</td>\n",
       "      <td>0.0</td>\n",
       "      <td>0.035714</td>\n",
       "      <td>0.0</td>\n",
       "      <td>0.0</td>\n",
       "      <td>0.0</td>\n",
       "      <td>0.0</td>\n",
       "      <td>0.0</td>\n",
       "      <td>0.071429</td>\n",
       "      <td>0.0</td>\n",
       "      <td>0.0</td>\n",
       "    </tr>\n",
       "    <tr>\n",
       "      <th>175</th>\n",
       "      <td>Humboldt Park</td>\n",
       "      <td>Chicago</td>\n",
       "      <td>0.0</td>\n",
       "      <td>0.0</td>\n",
       "      <td>0.0</td>\n",
       "      <td>0.0</td>\n",
       "      <td>0.0</td>\n",
       "      <td>0.0</td>\n",
       "      <td>0.0</td>\n",
       "      <td>0.0</td>\n",
       "      <td>...</td>\n",
       "      <td>0.0</td>\n",
       "      <td>0.000000</td>\n",
       "      <td>0.0</td>\n",
       "      <td>0.0</td>\n",
       "      <td>0.0</td>\n",
       "      <td>0.0</td>\n",
       "      <td>0.0</td>\n",
       "      <td>0.000000</td>\n",
       "      <td>0.0</td>\n",
       "      <td>0.0</td>\n",
       "    </tr>\n",
       "  </tbody>\n",
       "</table>\n",
       "<p>5 rows × 506 columns</p>\n",
       "</div>"
      ],
      "text/plain": [
       "           Neighborhood     City  ATM  Accessories Store  Adult Boutique  \\\n",
       "0       Grand Boulevard  Chicago  0.0                0.0             0.0   \n",
       "11         Printers Row  Chicago  0.0                0.0             0.0   \n",
       "111       United Center  Chicago  0.0                0.0             0.0   \n",
       "147  Sheffield & DePaul  Chicago  0.0                0.0             0.0   \n",
       "175       Humboldt Park  Chicago  0.0                0.0             0.0   \n",
       "\n",
       "     Afghan Restaurant  African Restaurant  Airport  Airport Food Court  \\\n",
       "0                  0.0                 0.0      0.0                 0.0   \n",
       "11                 0.0                 0.0      0.0                 0.0   \n",
       "111                0.0                 0.0      0.0                 0.0   \n",
       "147                0.0                 0.0      0.0                 0.0   \n",
       "175                0.0                 0.0      0.0                 0.0   \n",
       "\n",
       "     Airport Gate  ...  Waterfront  Weight Loss Center  Whisky Bar  Wine Bar  \\\n",
       "0             0.0  ...         0.0            0.000000         0.0       0.0   \n",
       "11            0.0  ...         0.0            0.000000         0.0       0.0   \n",
       "111           0.0  ...         0.0            0.000000         0.0       0.0   \n",
       "147           0.0  ...         0.0            0.035714         0.0       0.0   \n",
       "175           0.0  ...         0.0            0.000000         0.0       0.0   \n",
       "\n",
       "     Wine Shop  Wings Joint  Women's Store  Yoga Studio  Zoo  Zoo Exhibit  \n",
       "0          0.0          0.0            0.0     0.000000  0.0          0.0  \n",
       "11         0.0          0.0            0.0     0.010000  0.0          0.0  \n",
       "111        0.0          0.0            0.0     0.000000  0.0          0.0  \n",
       "147        0.0          0.0            0.0     0.071429  0.0          0.0  \n",
       "175        0.0          0.0            0.0     0.000000  0.0          0.0  \n",
       "\n",
       "[5 rows x 506 columns]"
      ]
     },
     "execution_count": 28,
     "metadata": {},
     "output_type": "execute_result"
    }
   ],
   "source": [
    "# Add the City names back into \"all_grouped\" in the 'City' column.\n",
    "all_grouped = all_venues[['Neighborhood', 'City']].join(all_grouped.set_index('Neighborhood'), on='Neighborhood', how='left').drop_duplicates(subset='Neighborhood',keep='first')\n",
    "# Move the 'City' column from last to right after 'Neighborhood'.\n",
    "fixed_columns = [all_onehot.columns[-1]] + list(all_onehot.columns[:-1])\n",
    "all_onehot = all_onehot[fixed_columns]\n",
    "# Check DataFrame.\n",
    "all_grouped.head()"
   ]
  },
  {
   "cell_type": "markdown",
   "metadata": {},
   "source": [
    "I'll try k-Means Clsutering first.  I will create three data sets that pair Toronto with each of the US cities.  To account for class imbalance, I prefer undersampling.  I will use k=2 since there are two cities in each set and I want to determine how similar each city is to Toronto.  If the cities are clustered exclusively (i.e. Toronto in one cluster and the US city in the other) than the cities are not very alike.  The level of mixing in the clusters will give an indication of the similarities of the cities."
   ]
  },
  {
   "cell_type": "code",
   "execution_count": 262,
   "metadata": {
    "scrolled": false
   },
   "outputs": [
    {
     "name": "stdout",
     "output_type": "stream",
     "text": [
      "TORONTO COMPARED TO CHICAGO\n",
      "Cluster 0\n",
      "Chicago    86\n",
      "Toronto    75\n",
      "Name: City, dtype: int64\n",
      "Total: 161\n",
      "\n",
      "Cluster 1\n",
      "Toronto    13\n",
      "Chicago     2\n",
      "Name: City, dtype: int64\n",
      "Total: 15\n",
      "\n",
      "----------------------------------\n",
      "\n",
      "TORONTO COMPARED TO NEW YORK\n",
      "Cluster 0\n",
      "New York    97\n",
      "Toronto     93\n",
      "Name: City, dtype: int64\n",
      "Total: 190\n",
      "\n",
      "Cluster 1\n",
      "Toronto     7\n",
      "New York    3\n",
      "Name: City, dtype: int64\n",
      "Total: 10\n",
      "\n",
      "----------------------------------\n",
      "\n",
      "TORONTO COMPARED TO LOS ANGELES\n",
      "Cluster 1\n",
      "Los Angeles    94\n",
      "Toronto        93\n",
      "Name: City, dtype: int64\n",
      "Total: 187\n",
      "\n",
      "Cluster 0\n",
      "Toronto        7\n",
      "Los Angeles    6\n",
      "Name: City, dtype: int64\n",
      "Total: 13\n",
      "\n",
      "----------------------------------\n",
      "\n"
     ]
    }
   ],
   "source": [
    "# Set values for sampling to match the lowest count of venues between Toronto and each of the three US cities.\n",
    "tor_chi_sample_n = all_grouped[(all_grouped['City'] != 'New York') & (all_grouped['City'] != 'Los Angeles')].City.value_counts().min()\n",
    "tor_NY_sample_n = all_grouped[(all_grouped['City'] != 'Chicago') & (all_grouped['City'] != 'Los Angeles')].City.value_counts().min()\n",
    "tor_LA_sample_n = all_grouped[(all_grouped['City'] != 'New York') & (all_grouped['City'] != 'Chicago')].City.value_counts().min()\n",
    "\n",
    "# Draw samples from each pairing of Toroto and each of the three US cities and save as DataFrames.\n",
    "tor_chi_grouped = pd.concat([all_grouped[all_grouped['City'] == 'Toronto'].sample(n=tor_chi_sample_n, replace=False),\n",
    "                             all_grouped[all_grouped['City'] == 'Chicago'].sample(n=tor_chi_sample_n, replace=False)], axis=0).reset_index(drop=True)\n",
    "tor_NY_grouped = pd.concat([all_grouped[all_grouped['City'] == 'Toronto'].sample(n=tor_NY_sample_n, replace=False),\n",
    "                            all_grouped[all_grouped['City'] == 'New York'].sample(n=tor_NY_sample_n, replace=False)], axis=0).reset_index(drop=True)\n",
    "tor_LA_grouped = pd.concat([all_grouped[all_grouped['City'] == 'Toronto'].sample(n=tor_LA_sample_n, replace=False),\n",
    "                            all_grouped[all_grouped['City'] == 'Los Angeles'].sample(n=tor_LA_sample_n, replace=False)], axis=0).reset_index(drop=True)\n",
    "\n",
    "# Make a list of all city/pair sample DataFrames.\n",
    "toronto_compared = [tor_chi_grouped, tor_NY_grouped, tor_LA_grouped]\n",
    "\n",
    "# Iterate over each sample DataFrame, perform clustering and print output.\n",
    "for group in toronto_compared:\n",
    "    # Drop 'Neighborhood' and 'City' columns.\n",
    "    group_clustering = group.drop(columns=['Neighborhood', 'City'])\n",
    "    # Create and fit KMeans object.\n",
    "    KM = KMeans(n_clusters=2, random_state=0).fit(group_clustering)\n",
    "    # Add cluster labels back in to original DataFrame\n",
    "    group['Cluster ID'] = KM.labels_\n",
    "    # Retreive US city in dataset\n",
    "    for city in group['City'].unique():\n",
    "        if city != 'Toronto':\n",
    "            print(str('TORONTO COMPARED TO ' + city.upper()))\n",
    "    # Print details from each cities clustering.\n",
    "    for ID in group['Cluster ID'].unique():\n",
    "        print('Cluster ' + str(ID))\n",
    "        print(group[group['Cluster ID'] == ID]['City'].value_counts())\n",
    "        print('Total: ' + str(group[group['Cluster ID'] == ID]['City'].value_counts().sum()))\n",
    "        print('')\n",
    "    print('----------------------------------')\n",
    "    print('')"
   ]
  },
  {
   "cell_type": "markdown",
   "metadata": {},
   "source": [
    "Not exactly what I was hoping for.  The clusters were not cleanly demarked by City and one cluster is roughly 10x the size of the other.  At a quick glance, Los Angeles neighborhoods are the most evenly clustered with Toronto's."
   ]
  },
  {
   "cell_type": "markdown",
   "metadata": {},
   "source": [
    "Let's see if we can determine characteristics of these clusters."
   ]
  },
  {
   "cell_type": "code",
   "execution_count": 172,
   "metadata": {},
   "outputs": [],
   "source": [
    "mylist = []\n",
    "\n",
    "def return_most_common_venues(row, num_top_venues):\n",
    "    row_categories = row.iloc[1:]\n",
    "    row_categories_sorted = row_categories.sort_values(ascending=False)\n",
    "\n",
    "    return row_categories_sorted.index.values[0:num_top_venues]\n",
    "\n",
    "for pair in toronto_compared:\n",
    "    TOR_US_DF = pair.copy()\n",
    "\n",
    "    TOR_US_DF = TOR_US_DF.drop(columns=['Neighborhood', 'City'])\n",
    "\n",
    "    fixed_columns = [TOR_US_DF.columns[-1]] + list(TOR_US_DF.columns[:-1])\n",
    "    TOR_US_DF = TOR_US_DF[fixed_columns]\n",
    "\n",
    "    TOR_US_DF = TOR_US_DF.groupby('Cluster ID').sum().reset_index()\n",
    "\n",
    "    num_top_venues = 10\n",
    "    indicators = ['st', 'nd', 'rd']\n",
    "\n",
    "    # create columns according to number of top venues\n",
    "    columns = ['Cluster ID']\n",
    "    for ind in np.arange(num_top_venues):\n",
    "        try:\n",
    "            columns.append('{}{} Most Common Venue'.format(ind+1, indicators[ind]))\n",
    "        except:\n",
    "            columns.append('{}th Most Common Venue'.format(ind+1))\n",
    "\n",
    "    # create a new dataframe\n",
    "    neighborhoods_venues_sorted = pd.DataFrame(columns=columns)\n",
    "    neighborhoods_venues_sorted['Cluster ID'] = TOR_US_DF['Cluster ID']\n",
    "\n",
    "    for ind in np.arange(TOR_US_DF.shape[0]):\n",
    "        neighborhoods_venues_sorted.iloc[ind, 1:] = return_most_common_venues(TOR_US_DF.iloc[ind, :], num_top_venues)\n",
    "    \n",
    "    mylist.append(neighborhoods_venues_sorted)"
   ]
  },
  {
   "cell_type": "code",
   "execution_count": 173,
   "metadata": {},
   "outputs": [
    {
     "data": {
      "text/html": [
       "<div>\n",
       "<style scoped>\n",
       "    .dataframe tbody tr th:only-of-type {\n",
       "        vertical-align: middle;\n",
       "    }\n",
       "\n",
       "    .dataframe tbody tr th {\n",
       "        vertical-align: top;\n",
       "    }\n",
       "\n",
       "    .dataframe thead th {\n",
       "        text-align: right;\n",
       "    }\n",
       "</style>\n",
       "<table border=\"1\" class=\"dataframe\">\n",
       "  <thead>\n",
       "    <tr style=\"text-align: right;\">\n",
       "      <th></th>\n",
       "      <th>Cluster ID</th>\n",
       "      <th>1st Most Common Venue</th>\n",
       "      <th>2nd Most Common Venue</th>\n",
       "      <th>3rd Most Common Venue</th>\n",
       "      <th>4th Most Common Venue</th>\n",
       "      <th>5th Most Common Venue</th>\n",
       "      <th>6th Most Common Venue</th>\n",
       "      <th>7th Most Common Venue</th>\n",
       "      <th>8th Most Common Venue</th>\n",
       "      <th>9th Most Common Venue</th>\n",
       "      <th>10th Most Common Venue</th>\n",
       "    </tr>\n",
       "  </thead>\n",
       "  <tbody>\n",
       "    <tr>\n",
       "      <th>0</th>\n",
       "      <td>0</td>\n",
       "      <td>Coffee Shop</td>\n",
       "      <td>Pizza Place</td>\n",
       "      <td>Fast Food Restaurant</td>\n",
       "      <td>Park</td>\n",
       "      <td>Café</td>\n",
       "      <td>Gym</td>\n",
       "      <td>Sandwich Place</td>\n",
       "      <td>Bakery</td>\n",
       "      <td>Chinese Restaurant</td>\n",
       "      <td>Liquor Store</td>\n",
       "    </tr>\n",
       "    <tr>\n",
       "      <th>1</th>\n",
       "      <td>1</td>\n",
       "      <td>Park</td>\n",
       "      <td>Basketball Court</td>\n",
       "      <td>Playground</td>\n",
       "      <td>Convenience Store</td>\n",
       "      <td>Construction &amp; Landscaping</td>\n",
       "      <td>Food &amp; Drink Shop</td>\n",
       "      <td>River</td>\n",
       "      <td>Bank</td>\n",
       "      <td>Coffee Shop</td>\n",
       "      <td>Restaurant</td>\n",
       "    </tr>\n",
       "  </tbody>\n",
       "</table>\n",
       "</div>"
      ],
      "text/plain": [
       "   Cluster ID 1st Most Common Venue 2nd Most Common Venue  \\\n",
       "0           0           Coffee Shop           Pizza Place   \n",
       "1           1                  Park      Basketball Court   \n",
       "\n",
       "  3rd Most Common Venue 4th Most Common Venue       5th Most Common Venue  \\\n",
       "0  Fast Food Restaurant                  Park                        Café   \n",
       "1            Playground     Convenience Store  Construction & Landscaping   \n",
       "\n",
       "  6th Most Common Venue 7th Most Common Venue 8th Most Common Venue  \\\n",
       "0                   Gym        Sandwich Place                Bakery   \n",
       "1     Food & Drink Shop                 River                  Bank   \n",
       "\n",
       "  9th Most Common Venue 10th Most Common Venue  \n",
       "0    Chinese Restaurant           Liquor Store  \n",
       "1           Coffee Shop             Restaurant  "
      ]
     },
     "execution_count": 173,
     "metadata": {},
     "output_type": "execute_result"
    }
   ],
   "source": [
    "# Toronto / Chicago Cluster.\n",
    "mylist[0]"
   ]
  },
  {
   "cell_type": "code",
   "execution_count": 174,
   "metadata": {},
   "outputs": [
    {
     "data": {
      "text/html": [
       "<div>\n",
       "<style scoped>\n",
       "    .dataframe tbody tr th:only-of-type {\n",
       "        vertical-align: middle;\n",
       "    }\n",
       "\n",
       "    .dataframe tbody tr th {\n",
       "        vertical-align: top;\n",
       "    }\n",
       "\n",
       "    .dataframe thead th {\n",
       "        text-align: right;\n",
       "    }\n",
       "</style>\n",
       "<table border=\"1\" class=\"dataframe\">\n",
       "  <thead>\n",
       "    <tr style=\"text-align: right;\">\n",
       "      <th></th>\n",
       "      <th>Cluster ID</th>\n",
       "      <th>1st Most Common Venue</th>\n",
       "      <th>2nd Most Common Venue</th>\n",
       "      <th>3rd Most Common Venue</th>\n",
       "      <th>4th Most Common Venue</th>\n",
       "      <th>5th Most Common Venue</th>\n",
       "      <th>6th Most Common Venue</th>\n",
       "      <th>7th Most Common Venue</th>\n",
       "      <th>8th Most Common Venue</th>\n",
       "      <th>9th Most Common Venue</th>\n",
       "      <th>10th Most Common Venue</th>\n",
       "    </tr>\n",
       "  </thead>\n",
       "  <tbody>\n",
       "    <tr>\n",
       "      <th>0</th>\n",
       "      <td>0</td>\n",
       "      <td>Coffee Shop</td>\n",
       "      <td>Pizza Place</td>\n",
       "      <td>Sandwich Place</td>\n",
       "      <td>Deli / Bodega</td>\n",
       "      <td>Park</td>\n",
       "      <td>Grocery Store</td>\n",
       "      <td>Bakery</td>\n",
       "      <td>Café</td>\n",
       "      <td>Bar</td>\n",
       "      <td>Chinese Restaurant</td>\n",
       "    </tr>\n",
       "    <tr>\n",
       "      <th>1</th>\n",
       "      <td>1</td>\n",
       "      <td>Park</td>\n",
       "      <td>Convenience Store</td>\n",
       "      <td>Playground</td>\n",
       "      <td>Food &amp; Drink Shop</td>\n",
       "      <td>River</td>\n",
       "      <td>Coffee Shop</td>\n",
       "      <td>Restaurant</td>\n",
       "      <td>Tennis Court</td>\n",
       "      <td>Bank</td>\n",
       "      <td>Women's Store</td>\n",
       "    </tr>\n",
       "  </tbody>\n",
       "</table>\n",
       "</div>"
      ],
      "text/plain": [
       "   Cluster ID 1st Most Common Venue 2nd Most Common Venue  \\\n",
       "0           0           Coffee Shop           Pizza Place   \n",
       "1           1                  Park     Convenience Store   \n",
       "\n",
       "  3rd Most Common Venue 4th Most Common Venue 5th Most Common Venue  \\\n",
       "0        Sandwich Place         Deli / Bodega                  Park   \n",
       "1            Playground     Food & Drink Shop                 River   \n",
       "\n",
       "  6th Most Common Venue 7th Most Common Venue 8th Most Common Venue  \\\n",
       "0         Grocery Store                Bakery                  Café   \n",
       "1           Coffee Shop            Restaurant          Tennis Court   \n",
       "\n",
       "  9th Most Common Venue 10th Most Common Venue  \n",
       "0                   Bar     Chinese Restaurant  \n",
       "1                  Bank          Women's Store  "
      ]
     },
     "execution_count": 174,
     "metadata": {},
     "output_type": "execute_result"
    }
   ],
   "source": [
    "# Toronto / New York Cluster.\n",
    "mylist[1]"
   ]
  },
  {
   "cell_type": "code",
   "execution_count": 175,
   "metadata": {},
   "outputs": [
    {
     "data": {
      "text/html": [
       "<div>\n",
       "<style scoped>\n",
       "    .dataframe tbody tr th:only-of-type {\n",
       "        vertical-align: middle;\n",
       "    }\n",
       "\n",
       "    .dataframe tbody tr th {\n",
       "        vertical-align: top;\n",
       "    }\n",
       "\n",
       "    .dataframe thead th {\n",
       "        text-align: right;\n",
       "    }\n",
       "</style>\n",
       "<table border=\"1\" class=\"dataframe\">\n",
       "  <thead>\n",
       "    <tr style=\"text-align: right;\">\n",
       "      <th></th>\n",
       "      <th>Cluster ID</th>\n",
       "      <th>1st Most Common Venue</th>\n",
       "      <th>2nd Most Common Venue</th>\n",
       "      <th>3rd Most Common Venue</th>\n",
       "      <th>4th Most Common Venue</th>\n",
       "      <th>5th Most Common Venue</th>\n",
       "      <th>6th Most Common Venue</th>\n",
       "      <th>7th Most Common Venue</th>\n",
       "      <th>8th Most Common Venue</th>\n",
       "      <th>9th Most Common Venue</th>\n",
       "      <th>10th Most Common Venue</th>\n",
       "    </tr>\n",
       "  </thead>\n",
       "  <tbody>\n",
       "    <tr>\n",
       "      <th>0</th>\n",
       "      <td>0</td>\n",
       "      <td>Park</td>\n",
       "      <td>Convenience Store</td>\n",
       "      <td>Playground</td>\n",
       "      <td>Lake</td>\n",
       "      <td>Food</td>\n",
       "      <td>Food &amp; Drink Shop</td>\n",
       "      <td>Other Repair Shop</td>\n",
       "      <td>Clothing Store</td>\n",
       "      <td>Bank</td>\n",
       "      <td>Construction &amp; Landscaping</td>\n",
       "    </tr>\n",
       "    <tr>\n",
       "      <th>1</th>\n",
       "      <td>1</td>\n",
       "      <td>Coffee Shop</td>\n",
       "      <td>Pizza Place</td>\n",
       "      <td>Fast Food Restaurant</td>\n",
       "      <td>Mexican Restaurant</td>\n",
       "      <td>Convenience Store</td>\n",
       "      <td>Grocery Store</td>\n",
       "      <td>Café</td>\n",
       "      <td>Trail</td>\n",
       "      <td>Construction &amp; Landscaping</td>\n",
       "      <td>Bakery</td>\n",
       "    </tr>\n",
       "  </tbody>\n",
       "</table>\n",
       "</div>"
      ],
      "text/plain": [
       "   Cluster ID 1st Most Common Venue 2nd Most Common Venue  \\\n",
       "0           0                  Park     Convenience Store   \n",
       "1           1           Coffee Shop           Pizza Place   \n",
       "\n",
       "  3rd Most Common Venue 4th Most Common Venue 5th Most Common Venue  \\\n",
       "0            Playground                  Lake                  Food   \n",
       "1  Fast Food Restaurant    Mexican Restaurant     Convenience Store   \n",
       "\n",
       "  6th Most Common Venue 7th Most Common Venue 8th Most Common Venue  \\\n",
       "0     Food & Drink Shop     Other Repair Shop        Clothing Store   \n",
       "1         Grocery Store                  Café                 Trail   \n",
       "\n",
       "        9th Most Common Venue      10th Most Common Venue  \n",
       "0                        Bank  Construction & Landscaping  \n",
       "1  Construction & Landscaping                      Bakery  "
      ]
     },
     "execution_count": 175,
     "metadata": {},
     "output_type": "execute_result"
    }
   ],
   "source": [
    "# Toronto / Los Angeles Cluster.\n",
    "mylist[2]"
   ]
  },
  {
   "cell_type": "markdown",
   "metadata": {},
   "source": [
    "Seems like the majority clusters for each Toronto/US city pairing are mostly restaurants. The minority clusters follow a pattern where the most common venue is parks, followed by convenience stores, playgrounds, rivers, gyms, banks and other non-eatery venues. That seems to be the primary demarkation between the clusters. Therefore, it is reasonable to think that the closer each cluster is to a 50/50 split between the two cities, the more similar the two cities are. <br> <br>\n",
    "With that in mind, the Toronto / Los Angeles pairing in the previous k-Means clustering seems to be the closest to 50/50: <br>\n",
    "<br>\n",
    "TORONTO COMPARED TO LOS ANGELES<br>\n",
    "Cluster 1<br>\n",
    "Los Angeles: 94<br>\n",
    "Toronto: 93<br>\n",
    "Total: 187<br>\n",
    "<br>\n",
    "Cluster 0<br>\n",
    "Toronto: 7<br>\n",
    "Los Angeles: 6<br>\n",
    "Total: 13<br>"
   ]
  },
  {
   "cell_type": "markdown",
   "metadata": {},
   "source": [
    "Because I am using undersampling to account for the class imbalance, I want to run several iterations of sampling and application of k-Means. I will run the process 200 times and take the averages. "
   ]
  },
  {
   "cell_type": "code",
   "execution_count": 89,
   "metadata": {
    "scrolled": false
   },
   "outputs": [
    {
     "name": "stdout",
     "output_type": "stream",
     "text": [
      "MAJORITY CLUSTER PERCENTAGE DESCRIPTION\n",
      "      Chicago  Toronto\n",
      "mean    52.15    47.85\n",
      "std      0.63     0.63\n",
      "min     50.29    46.34\n",
      "25%     51.83    47.47\n",
      "50%     52.17    47.83\n",
      "75%     52.53    48.17\n",
      "max     53.66    49.71\n",
      "\n",
      "      New York  Toronto\n",
      "mean     52.37    47.63\n",
      "std       0.64     0.64\n",
      "min      49.75    46.20\n",
      "25%      52.17    47.28\n",
      "50%      52.46    47.54\n",
      "75%      52.72    47.83\n",
      "max      53.80    50.25\n",
      "\n",
      "      Los Angeles  Toronto\n",
      "mean        50.00    50.00\n",
      "std          0.69     0.69\n",
      "min         48.50    48.09\n",
      "25%         49.46    49.47\n",
      "50%         50.00    50.00\n",
      "75%         50.53    50.54\n",
      "max         51.91    51.50\n",
      "\n",
      "MINORITY CLUSTER PERCENTAGE DESCRIPTION\n",
      "      Chicago  Toronto\n",
      "mean    23.13    77.33\n",
      "std      6.50     7.20\n",
      "min     11.11    63.64\n",
      "25%     16.67    71.43\n",
      "50%     25.00    75.00\n",
      "75%     28.57    83.65\n",
      "max     36.36   100.00\n",
      "\n",
      "      New York  Toronto\n",
      "mean     18.78    82.76\n",
      "std       9.26     8.16\n",
      "min       6.25    63.16\n",
      "25%      13.33    76.47\n",
      "50%      18.75    81.25\n",
      "75%      23.53    87.50\n",
      "max     100.00   100.00\n",
      "\n",
      "      Los Angeles  Toronto\n",
      "mean        53.14    47.33\n",
      "std         14.39    13.66\n",
      "min         29.41    14.29\n",
      "25%         45.45    44.69\n",
      "50%         50.00    50.00\n",
      "75%         55.73    54.55\n",
      "max        100.00    70.59\n",
      "\n"
     ]
    }
   ],
   "source": [
    "# Set values for sampling to match the lowest count of venues between Toronto and each of the three US cities.\n",
    "tor_chi_sample_n = all_grouped[(all_grouped['City'] != 'New York') & (all_grouped['City'] != 'Los Angeles')].City.value_counts().min()\n",
    "tor_NY_sample_n = all_grouped[(all_grouped['City'] != 'Chicago') & (all_grouped['City'] != 'Los Angeles')].City.value_counts().min()\n",
    "tor_LA_sample_n = all_grouped[(all_grouped['City'] != 'New York') & (all_grouped['City'] != 'Chicago')].City.value_counts().min()\n",
    "\n",
    "chi_max = []\n",
    "ny_max = []\n",
    "la_max = []\n",
    "chi_min = []\n",
    "ny_min = []\n",
    "la_min = []\n",
    "\n",
    "for i in range(200):\n",
    "    # Draw samples from each pairing of Toroto and each of the three US cities and save as DataFrames.\n",
    "    tor_chi_grouped = pd.concat([all_grouped[all_grouped['City'] == 'Toronto'].sample(n=tor_chi_sample_n, replace=False),\n",
    "                                 all_grouped[all_grouped['City'] == 'Chicago'].sample(n=tor_chi_sample_n, replace=False)], axis=0).reset_index(drop=True)\n",
    "    tor_NY_grouped = pd.concat([all_grouped[all_grouped['City'] == 'Toronto'].sample(n=tor_NY_sample_n, replace=False),\n",
    "                                all_grouped[all_grouped['City'] == 'New York'].sample(n=tor_NY_sample_n, replace=False)], axis=0).reset_index(drop=True)\n",
    "    tor_LA_grouped = pd.concat([all_grouped[all_grouped['City'] == 'Toronto'].sample(n=tor_LA_sample_n, replace=False),\n",
    "                                all_grouped[all_grouped['City'] == 'Los Angeles'].sample(n=tor_LA_sample_n, replace=False)], axis=0).reset_index(drop=True)\n",
    "\n",
    "    # Make a list of all city/pair sample DataFrames.\n",
    "    toronto_compared = [tor_chi_grouped, tor_NY_grouped, tor_LA_grouped]\n",
    "\n",
    "    # Iterate over each sample DataFrame and perform clustering.\n",
    "    for group in toronto_compared:\n",
    "        # Drop 'Neighborhood' and 'City' columns.\n",
    "        group_clustering = group.drop(columns=['Neighborhood', 'City'])\n",
    "        # Create and fit KMeans object.\n",
    "        KM = KMeans(n_clusters=2, random_state=0).fit(group_clustering)\n",
    "        # Add cluster labels back in to original DataFrame\n",
    "        group['Cluster ID'] = KM.labels_\n",
    "        # Save the majority and minority cluster labels.\n",
    "        max_cluster = group[group['Cluster ID'] == group['Cluster ID'].mode()[0]]\n",
    "        min_cluster = group[group['Cluster ID'] != group['Cluster ID'].mode()[0]]\n",
    "        # Collect the value counts of the Toronto/US city pairing in both majority and minority clusters.\n",
    "        if 'Chicago' in group['City'].unique():\n",
    "            chi_max.append(round(max_cluster['City'].value_counts()/max_cluster['City'].count()*100,2))\n",
    "            chi_min.append(round(min_cluster['City'].value_counts()/min_cluster['City'].count()*100,2))\n",
    "        if 'New York' in group['City'].unique():\n",
    "            ny_max.append(round(max_cluster['City'].value_counts()/max_cluster['City'].count()*100,2))\n",
    "            ny_min.append(round(min_cluster['City'].value_counts()/min_cluster['City'].count()*100,2))\n",
    "        if 'Los Angeles' in group['City'].unique():\n",
    "            la_max.append(round(max_cluster['City'].value_counts()/max_cluster['City'].count()*100,2))\n",
    "            la_min.append(round(min_cluster['City'].value_counts()/min_cluster['City'].count()*100,2))\n",
    "\n",
    "# Create list of majority and minority clusters.           \n",
    "all_ = ((chi_max, ny_max, la_max),(chi_min, ny_min, la_min))\n",
    "\n",
    "# Print description of majority and minority clusters for each Toronto/US city pairing.\n",
    "print('MAJORITY CLUSTER PERCENTAGE DESCRIPTION')\n",
    "for i in all_[0]:\n",
    "    df = pd.DataFrame(i).reset_index(drop=True)\n",
    "    df = df[sorted(list(df.columns))]\n",
    "    print(round(df.describe().drop('count'),2))\n",
    "    print('')\n",
    "    \n",
    "print('MINORITY CLUSTER PERCENTAGE DESCRIPTION')\n",
    "for i in all_[1]:\n",
    "    df = pd.DataFrame(i).reset_index(drop=True)\n",
    "    df = df[sorted(list(df.columns))]\n",
    "    print(round(df.describe().drop('count'),2))\n",
    "    print('')"
   ]
  },
  {
   "cell_type": "markdown",
   "metadata": {},
   "source": [
    "The means of the majority cluster for each Toronto/US city pairing are very close to 50/50, but Toronto/Los Angeles are exactly even at 50% of the cluster. The New York and Chicago pairings are close to 50/50, but both are around 52/48. The difference is small, but consistant. <br><br>\n",
    "The differences in the minority clusters are more pronounced.  The Toronto/Los Angeles pair is much closer to 50/50 than any of the other pairs, which lends further credence to the presumption that Toronto is more like Los Angeles than either of the other US cities. <br><br>\n",
    "Let's take a look at the distributions of the majority clusters."
   ]
  },
  {
   "cell_type": "code",
   "execution_count": 107,
   "metadata": {},
   "outputs": [
    {
     "data": {
      "image/png": "[encoded data removed]",
      "text/plain": [
       "<Figure size 576x720 with 6 Axes>"
      ]
     },
     "metadata": {
      "needs_background": "light"
     },
     "output_type": "display_data"
    }
   ],
   "source": [
    "# Plot distribution of percentages in the majority clusters.\n",
    "# Set bins variable.\n",
    "b = 20\n",
    "# Set counter variable to determine positioning in subplot.\n",
    "i = 0\n",
    "\n",
    "# Calculate max and min values in all city pairings.\n",
    "axis_max = pd.concat((*chi_max, *ny_max, *la_max)).max()\n",
    "axis_min = pd.concat((*chi_max, *ny_max, *la_max)).min()\n",
    "\n",
    "# Plot the histogram.\n",
    "plt.figure(figsize=(8,10))\n",
    "for list_ in all_[0]:\n",
    "    X = pd.concat(list_)\n",
    "    # Set seperate subplot for each city in the pairing.\n",
    "    for ind in X.index.unique():\n",
    "        # Set color for specific for Toronto and the US city.\n",
    "        if ind == 'Toronto':\n",
    "            c = 'orange'\n",
    "        else:\n",
    "            c = 'blue'\n",
    "        i += 1\n",
    "        # Set plot parameters and labels.\n",
    "        plt.subplot(3,2,i)\n",
    "        plt.hist(X.loc[ind].values, bins=b,color=c)\n",
    "        plt.axvline(X.loc[ind].values.mean(), color='black', linestyle='--')\n",
    "        plt.title(ind)\n",
    "        plt.ylim(0,60)\n",
    "        plt.xlim(axis_min-1,axis_max+1)\n",
    "        plt.xlabel('Percentage of Cluster')\n",
    "        plt.ylabel('Count')\n",
    "plt.suptitle(\"Majority Clusters Mean Percentage Distribution\", size=16, y=1.03)\n",
    "plt.tight_layout()\n",
    "plt.show()"
   ]
  },
  {
   "cell_type": "markdown",
   "metadata": {},
   "source": [
    "Some fairly normal distributions.  Toronto/Los Angeles seems the most even, and the mean for both is right at 50.  Standard deviation is very small for all pairs, roughly 0.65."
   ]
  },
  {
   "cell_type": "code",
   "execution_count": 110,
   "metadata": {},
   "outputs": [
    {
     "data": {
      "image/png": "[encoded data removed]",
      "text/plain": [
       "<Figure size 1008x360 with 3 Axes>"
      ]
     },
     "metadata": {},
     "output_type": "display_data"
    }
   ],
   "source": [
    "# Create pie chart for majority cluster means percentages.\n",
    "axis = 0\n",
    "plt.figure(figsize=(14,5))\n",
    "for i in all_[0]:\n",
    "    axis += 1\n",
    "    plt.subplot(1,3,axis)\n",
    "    df = pd.concat(i)\n",
    "    df.groupby(df.index).mean().plot.pie(colors=['blue', 'orange'], autopct='%1.1f%%', textprops={'fontsize': 16, 'color':'w'})\n",
    "    plt.legend(bbox_to_anchor=(0, 1.1), loc='upper left', ncol=1)\n",
    "    plt.axis('equal') \n",
    "    plt.ylabel('')\n",
    "    plt.xlabel('')\n",
    "plt.suptitle(\"Mean Percentage of Majority Clusters\", size=16, y=1.03)\n",
    "plt.show()"
   ]
  },
  {
   "cell_type": "markdown",
   "metadata": {},
   "source": [
    "Toronto and Los Angeles majority clusters are dead even on 50%.  The relationships between Toronto/New York and Toronto/Chicago are very similar, but Chicago is *slightly* more like Toronto than New York is."
   ]
  },
  {
   "cell_type": "code",
   "execution_count": 111,
   "metadata": {},
   "outputs": [
    {
     "data": {
      "image/png": "[encoded data removed]",
      "text/plain": [
       "<Figure size 1008x360 with 3 Axes>"
      ]
     },
     "metadata": {},
     "output_type": "display_data"
    }
   ],
   "source": [
    "# Create pie chart for minority cluster means percentages.\n",
    "axis = 0\n",
    "plt.figure(figsize=(14,5))\n",
    "for i in all_[1]:\n",
    "    axis += 1\n",
    "    plt.subplot(1,3,axis)\n",
    "    df = pd.concat(i)\n",
    "    df.groupby(df.index).mean().plot.pie(colors=['blue', 'orange'], autopct='%1.1f%%', textprops={'fontsize': 16, 'color':'w'})\n",
    "    plt.legend(bbox_to_anchor=(0, 1.1), loc='upper left', ncol=1)\n",
    "    plt.axis('equal') \n",
    "    plt.ylabel('')\n",
    "    plt.xlabel('')\n",
    "plt.suptitle(\"Mean Percentage of Minority Clusters\", size=16, y=1.03)\n",
    "plt.show()"
   ]
  },
  {
   "cell_type": "markdown",
   "metadata": {},
   "source": [
    "As previously noted, the difference in the minority clusters are far more pronounced.  Toronto/Los Angeles are far closer to 50/50 than the other city pairs.  The relationships between Toronto/New York and Toronto/Chicago are again similar, but Toronto/Chicago is closer to 50/50 than Toronto/New York."
   ]
  },
  {
   "cell_type": "markdown",
   "metadata": {},
   "source": [
    "### Classification"
   ]
  },
  {
   "cell_type": "markdown",
   "metadata": {},
   "source": [
    "The results of clustering point to Toronto/Los Angels as the closest pair, but I will also attempt classification. I will use the same dataset as in clustering, but use the cities as the labels to predict. I will check which Toronto neighborhoods were labeled incorrectly and what city label was applied. The most common incorrect label will be the city Toronto is most like. Logistic regression is an appropriate option since this is binary classification. This time, I will use oversampling.<br><br>\n",
    "Let's see what we get..."
   ]
  },
  {
   "cell_type": "code",
   "execution_count": 147,
   "metadata": {},
   "outputs": [
    {
     "name": "stdout",
     "output_type": "stream",
     "text": [
      "Tuned Logistic Regression Parameters: {'C': 100}\n",
      "Accuracy score is 0.967\n",
      "Best score is 0.973\n"
     ]
    },
    {
     "data": {
      "text/plain": [
       "Toronto        97.42\n",
       "Los Angeles     2.58\n",
       "Name: Predict, dtype: float64"
      ]
     },
     "execution_count": 147,
     "metadata": {},
     "output_type": "execute_result"
    }
   ],
   "source": [
    "# Logistic regression of the Toronto/US city neighborhoods pairs.\n",
    "# Set sample variable.\n",
    "sample_n = 5000\n",
    "mylist = []\n",
    "\n",
    "# for i in range(100):\n",
    "# Draw samples from Toroto and each of the three US cities and save all as one DataFrames.\n",
    "grouped_concat = pd.concat([all_grouped[all_grouped['City'] == 'Toronto'].sample(n=sample_n, replace=True),\n",
    "                            all_grouped[all_grouped['City'] == 'Chicago'].sample(n=sample_n, replace=True),\n",
    "                            all_grouped[all_grouped['City'] == 'New York'].sample(n=sample_n, replace=True),\n",
    "                            all_grouped[all_grouped['City'] == 'Los Angeles'].sample(n=sample_n, replace=True)], axis=0).reset_index(drop=True)\n",
    "\n",
    "# Set C-value array used for Grid Search.\n",
    "param_grid = {'C':[0.001, 0.1, 1, 10, 100]}\n",
    "\n",
    "# Create training and test sets\n",
    "x_train, x_test, y_train, y_test = train_test_split(grouped_concat.drop(columns=['Neighborhood', 'City']), \n",
    "                                                    grouped_concat['City'])\n",
    "\n",
    "# Build Logistic Regression model tuned with Grid Search.\n",
    "LR = LogisticRegression(solver='liblinear',multi_class='auto')\n",
    "LR_cv = GridSearchCV(LR,param_grid,cv=5)\n",
    "# Fit model with training data.\n",
    "LR_cv.fit(x_train, y_train)\n",
    "# Predict labels.\n",
    "labels = LR_cv.predict(x_test)\n",
    "\n",
    "# Print model tuning and accuracy summaries.\n",
    "print(\"Tuned Logistic Regression Parameters: {}\".format(LR_cv.best_params_)) \n",
    "print(\"Accuracy score is {}\".format(accuracy_score(labels, y_test)))\n",
    "print(\"Best score is {}\".format(LR_cv.best_score_))\n",
    "\n",
    "# Combine test data and predicted labels into one DataFrame.\n",
    "predict_df = grouped_concat.loc[x_test.index]\n",
    "predict_df['Predict'] = labels\n",
    "# Get percentage of Toronto neighborhoods labeled not as Toronto.\n",
    "round(predict_df[predict_df['City'] == 'Toronto']['Predict'].value_counts()/len(predict_df[predict_df['City'] == 'Toronto']['Predict'])*100,2)"
   ]
  },
  {
   "cell_type": "markdown",
   "metadata": {},
   "source": [
    "96.7% accuracy is very good. We can see that 2.58% of Toronto neighborhoods were mislabeled as Los Angeles with none mislabeled as either New York or Chicago. The percentage is small, to be sure, but it does provide another indicator that Toronto is more like Los Angeles than either New York or Chicago."
   ]
  },
  {
   "cell_type": "markdown",
   "metadata": {},
   "source": [
    "## Summary"
   ]
  },
  {
   "cell_type": "markdown",
   "metadata": {},
   "source": [
    "The indicators may not be especially profound, since all four cities are in North America, very large, economically developed and culturally diverse. With that said, the data does illustrate certain patterns and both classification and clustering point to Toronto having more in common with Los Angeles than either Chicago or New York. "
   ]
  }
 ],
 "metadata": {
  "kernelspec": {
   "display_name": "Python 3",
   "language": "python",
   "name": "python3"
  },
  "language_info": {
   "codemirror_mode": {
    "name": "ipython",
    "version": 3
   },
   "file_extension": ".py",
   "mimetype": "text/x-python",
   "name": "python",
   "nbconvert_exporter": "python",
   "pygments_lexer": "ipython3",
   "version": "3.7.1"
  }
 },
 "nbformat": 4,
 "nbformat_minor": 1
}
